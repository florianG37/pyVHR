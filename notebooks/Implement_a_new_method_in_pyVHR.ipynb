{
 "cells": [
  {
   "cell_type": "markdown",
   "metadata": {},
   "source": [
    "# Implement a new method in pyVHR\n",
    "\n",
    "Author :  Florian GIGOT\n",
    "\n",
    "In this jupyter notebook, we are going to explain how to add its own method to the pyVHR framework.\n",
    "\n",
    "This tutorial is based on my experience obtained during the integration of the \"MAP 3DCNN\" method in pyVHR. Thus, the implementation of \"MAP 3DCNN\" will be taken as an example to clarify the tutorial."
   ]
  },
  {
   "cell_type": "markdown",
   "metadata": {},
   "source": [
    "## Step 1 : method file creation\n",
    "\n",
    "Firstly, you need to create a file with the name of your method in the \"methods\" package.\n",
    "\n",
    "This file will define a class which will inherit from VHRMethod.\n",
    "\n",
    "The \"methodname\" attribute defines the identifier of your method in the framework. \n",
    "\n",
    "The \"apply\" function will define the main function of the method."
   ]
  },
  {
   "cell_type": "code",
   "execution_count": null,
   "metadata": {},
   "outputs": [],
   "source": [
    "import numpy as np\n",
    "from .base import VHRMethod\n",
    "\n",
    "class MAP_3DCNN(VHRMethod):\n",
    "    methodName = 'MAP_3DCNN'\n",
    "\n",
    "    def __init__(self, **kwargs):\n",
    "        super(MAP_3DCNN, self).__init__(**kwargs)\n",
    "\n",
    "    def apply(self, X):\n",
    "        return X"
   ]
  },
  {
   "cell_type": "markdown",
   "metadata": {},
   "source": [
    "## Step 2 : link your method with the framework\n",
    "\n",
    "To link your method with the rest of the framework, go to the \"base.py\" file of the \"methods\" package. Then, add your method to the \"makeMethodObject\" function."
   ]
  },
  {
   "cell_type": "code",
   "execution_count": null,
   "metadata": {},
   "outputs": [],
   "source": [
    "@staticmethod    \n",
    "def makeMethodObject(video, methodName='ICA'):\n",
    "    if methodName == 'CHROM':\n",
    "        m = methods.CHROM(video)\n",
    "        \n",
    "    ...\n",
    "        \n",
    "    elif methodName == 'MAP_3DCNN': # My method id\n",
    "        m = methods.MAP_3DCNN(video)\n",
    "        \n",
    "    ...\n",
    "        \n",
    "    else:\n",
    "        raise ValueError(\"Unknown method!\")\n",
    "    return m"
   ]
  },
  {
   "cell_type": "markdown",
   "metadata": {},
   "source": [
    "## Step 3 : specific configuration \n",
    "\n",
    "You can define a specific configuration for your method.\n",
    "\n",
    "First of all, you just have to add your parameters in the configuration files \".cfg\". The default configurations proposed by the authors of pyVHR are in the \"analysis\" package.\n",
    "\n",
    "The syntax is as follows:\n",
    "\n",
    "[ Method identifier]\n",
    "\n",
    "parameter 1 = value 1\n",
    "\n",
    "parameter 2 = value 2\n",
    "\n",
    "\n",
    "etc."
   ]
  },
  {
   "cell_type": "code",
   "execution_count": null,
   "metadata": {},
   "outputs": [],
   "source": [
    "## Method specific configurations\n",
    "\n",
    "# useRGBsig = disable the use of RGB signals\n",
    "# useBVPsig = disable the use of BVP signals\n",
    "\n",
    "## - MAP 3DCNN\n",
    "\n",
    "# xstep = horizontal step for mapping\n",
    "# ystep = vertical step for mapping\n",
    "# modelFilename = path of the model\n",
    "\n",
    "[MAP_3DCNN]\n",
    "useRGBsig = 0 # parameter 1 \n",
    "useBVPsig = 0 # parameter 2 \n",
    "xstep     = 25 # parameter 3\n",
    "ystep     = 25 # parameter 4\n",
    "modelFilename = ./model_winsize5_mix/ # parameter 5"
   ]
  },
  {
   "cell_type": "markdown",
   "metadata": {},
   "source": [
    "Then, you have to read the parameters into the framework.\n",
    "\n",
    "Two ways to read a parameter exist:\n",
    "\n",
    "* Define the reading in the \"__readparams\" function of the \"base.py\" file for generic parameters\n",
    "\n",
    "* Define the reading in the constructor of the class of the method for specific parameters"
   ]
  },
  {
   "cell_type": "code",
   "execution_count": null,
   "metadata": {},
   "outputs": [],
   "source": [
    "def __readparams(self, **kwargs):\n",
    "    if 'useRGBsig' in kwargs:\n",
    "        useRGBsig = int(kwargs['useRGBsig'])  # parameter 1\n",
    "    else :\n",
    "        useRGBsig = 1 #defaut value\n",
    "\n",
    "    if 'useBVPsig' in kwargs:\n",
    "        useBVPsig = int(kwargs['useBVPsig'])  # parameter 2\n",
    "    else :\n",
    "        useBVPsig = 1 #defaut value\n",
    "            \n",
    "    return startTime, endTime, winSize, timeStep, zeroMeanSTDnorm, BPfilter, minHz, maxHz,\\\n",
    "                detrending, detrMethod, detrLambda, useRGBsig, useBVPsig"
   ]
  },
  {
   "cell_type": "code",
   "execution_count": null,
   "metadata": {},
   "outputs": [],
   "source": [
    "import numpy as np\n",
    "from .base import VHRMethod\n",
    "\n",
    "class MAP_3DCNN(VHRMethod):\n",
    "    methodName = 'MAP_3DCNN'\n",
    "\n",
    "    def __init__(self, **kwargs):\n",
    "        self.x_step = int(kwargs['xstep']) # parameter 3\n",
    "        self.y_step = int(kwargs['ystep'])  # parameter 4\n",
    "        self.modelFilename = str(kwargs['modelFilename'])  # parameter 5\n",
    "        super(MAP_3DCNN, self).__init__(**kwargs)\n",
    "\n",
    "    def apply(self, X):\n",
    "        bpm = np.asarray([80])\n",
    "        return bpm "
   ]
  },
  {
   "cell_type": "markdown",
   "metadata": {},
   "source": [
    "## Step 4 : code your method\n",
    "\n",
    "Now you have to write the code of your method in the \"apply\" function of your method file.\n",
    "\n",
    "Some guidelines: \n",
    "\n",
    "* self : Object inheriting from VHRMethod\n",
    "\n",
    "* X : sequence to process (by default the RGB signal)\n",
    "\n",
    "* return : takes the following format \"np.array([])\" (by default the BVP signal) \n",
    "\n",
    "\n",
    "If your method respects the default template, you can stop the tutorial at the end of this step.\n"
   ]
  },
  {
   "cell_type": "code",
   "execution_count": null,
   "metadata": {},
   "outputs": [],
   "source": [
    "import numpy as np\n",
    "from .base import VHRMethod\n",
    "\n",
    "class MAP_3DCNN(VHRMethod):\n",
    "    methodName = 'MAP_3DCNN'\n",
    "\n",
    "    def __init__(self, **kwargs):\n",
    "        self.x_step = int(kwargs['xstep']) # parameter 3\n",
    "        self.y_step = int(kwargs['ystep'])  # parameter 4\n",
    "        self.modelFilename = str(kwargs['modelFilename'])  # parameter 5\n",
    "        super(MAP_3DCNN, self).__init__(**kwargs)\n",
    "\n",
    "    def apply(self, X):\n",
    "        ##\n",
    "        ## YOUR CODE\n",
    "        ##\n",
    "        return np.array([])"
   ]
  },
  {
   "cell_type": "markdown",
   "metadata": {},
   "source": [
    "## Step 5 : adjustment\n",
    "\n",
    "You can customise the input and output type of your function by adding conditions to the \"runOffline\" function in \"base.py\".  Plus, the signal processing functions are located in the \"signals\" package and can also be modified.\n",
    "\n",
    "Please note that a bpm value must be added in bpmES for the framework to work properly.\n",
    "\n",
    "Example specific to my method: "
   ]
  },
  {
   "cell_type": "code",
   "execution_count": null,
   "metadata": {},
   "outputs": [],
   "source": [
    "## methods/base.py/runOffline\n",
    "\n",
    "\n",
    "# temporary variable initialization\n",
    "rPPG = np.asarray([])\n",
    "bpmEstimated = 0\n",
    "\n",
    "...\n",
    " # -- use of RGB signals ??\n",
    "if useRGBsig == 1 :\n",
    "    ...\n",
    "    \n",
    "else:\n",
    "    # cut video\n",
    "    video = self.video.cutVideo(startFrame, endFrame)\n",
    "\n",
    "    # apply method\n",
    "    rPPG = self.apply(video)\n",
    "\n",
    "    # memory management\n",
    "    del video\n",
    "\n",
    "# -- use of BVP signals ??\n",
    "if useBVPsig == 1:           \n",
    "    ...\n",
    "else:\n",
    "    bpmEstimated = rPPG\n",
    "\n",
    "...\n",
    "bpmES.append(bpmEstimated)\n",
    "timesES.append(T)\n",
    "..."
   ]
  },
  {
   "cell_type": "code",
   "execution_count": null,
   "metadata": {},
   "outputs": [],
   "source": [
    "## signals/video.py\n",
    "\n",
    "#  cut video\n",
    "def cutVideo(self, startFrame, endFrame):\n",
    "    if self.processedFaces.size == 0:\n",
    "        return self.faces[startFrame:endFrame]\n",
    "    else:\n",
    "        return self.processedFaces[startFrame:endFrame]\n"
   ]
  }
 ],
 "metadata": {
  "kernelspec": {
   "display_name": "Python 3",
   "language": "python",
   "name": "python3"
  },
  "language_info": {
   "codemirror_mode": {
    "name": "ipython",
    "version": 3
   },
   "file_extension": ".py",
   "mimetype": "text/x-python",
   "name": "python",
   "nbconvert_exporter": "python",
   "pygments_lexer": "ipython3",
   "version": "3.8.1"
  }
 },
 "nbformat": 4,
 "nbformat_minor": 4
}
