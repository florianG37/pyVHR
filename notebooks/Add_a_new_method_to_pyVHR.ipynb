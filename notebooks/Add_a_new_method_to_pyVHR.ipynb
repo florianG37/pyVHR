{
 "cells": [
  {
   "cell_type": "markdown",
   "metadata": {},
   "source": [
    "# Add a new method to pyVHR\n",
    "\n",
    "Author :  Florian GIGOT\n",
    "\n",
    "In this jupyter notebook, we are going to explain how to add its own method to the pyVHR framework.\n"
   ]
  },
  {
   "cell_type": "markdown",
   "metadata": {},
   "source": [
    "## Step 1 : method file creation\n",
    "\n",
    "Firstly, you need to create a file with the name of your method in the \"methods\" package.\n",
    "\n",
    "This file will define a class which will inherit from VHRMethod.\n",
    "\n",
    "The \"methodname\" attribute defines the identifier of your method in the framework. \n",
    "\n",
    "The \"apply\" function will define the main function of the method."
   ]
  },
  {
   "cell_type": "code",
   "execution_count": null,
   "metadata": {},
   "outputs": [],
   "source": [
    "import numpy as np\n",
    "from .base import VHRMethod\n",
    "\n",
    "class YOUR_METHOD(VHRMethod):\n",
    "    methodName = 'YOUR_METHOD'\n",
    "\n",
    "    def __init__(self, **kwargs):\n",
    "        super(YOUR_METHOD, self).__init__(**kwargs)\n",
    "\n",
    "    def apply(self, X):\n",
    "        return X"
   ]
  },
  {
   "cell_type": "markdown",
   "metadata": {},
   "source": [
    "## Step 2 : link your method with the framework\n",
    "\n",
    "To link your method with the rest of the framework, go to the \"base.py\" file of the \"methods\" package. Then, add your method to the \"makeMethodObject\" function."
   ]
  },
  {
   "cell_type": "code",
   "execution_count": null,
   "metadata": {},
   "outputs": [],
   "source": [
    "@staticmethod    \n",
    "def makeMethodObject(video, methodName='ICA'):\n",
    "    if methodName == 'CHROM':\n",
    "        m = methods.CHROM(video)\n",
    "        \n",
    "    ...\n",
    "        \n",
    "    elif methodName == 'YOUR_METHOD': # My method id\n",
    "        m = methods.YOUR_METHOD(video)\n",
    "        \n",
    "    ...\n",
    "        \n",
    "    else:\n",
    "        raise ValueError(\"Unknown method!\")\n",
    "    return m"
   ]
  },
  {
   "cell_type": "markdown",
   "metadata": {},
   "source": [
    "## Step 3 : specific configuration \n",
    "\n",
    "You can define a specific configuration for your method.\n",
    "\n",
    "First of all, you just have to add your parameters in the configuration files \".cfg\". The default configurations proposed by the authors of pyVHR are in the \"analysis\" package.\n",
    "\n",
    "The syntax is as follows:\n",
    "\n",
    "[ Method identifier]\n",
    "\n",
    "parameter 1 = value 1\n",
    "\n",
    "parameter 2 = value 2\n",
    "\n",
    "\n",
    "etc."
   ]
  },
  {
   "cell_type": "code",
   "execution_count": null,
   "metadata": {},
   "outputs": [],
   "source": [
    "## Method specific configurations\n",
    "\n",
    "## - YOUR METHOD\n",
    "\n",
    "# xstep = horizontal step for mapping\n",
    "# ystep = vertical step for mapping\n",
    "# modelFilename = path of the model\n",
    "\n",
    "[YOUR_METHOD]\n",
    "\n",
    "xstep     = 25 # parameter 1\n",
    "ystep     = 25 # parameter 2\n",
    "modelFilename = ./model_winsize5_mix/ # parameter 3"
   ]
  },
  {
   "cell_type": "markdown",
   "metadata": {},
   "source": [
    "Then, you have to read the parameters into the framework.\n",
    "\n",
    "One of the ways to read a parameter exist is:\n",
    "\n",
    "* Define the reading in the constructor of the class of the method for specific parameters"
   ]
  },
  {
   "cell_type": "code",
   "execution_count": null,
   "metadata": {},
   "outputs": [],
   "source": [
    "import numpy as np\n",
    "from .base import VHRMethod\n",
    "\n",
    "class YOUR_METHOD(VHRMethod):\n",
    "    methodName = 'YOUR_METHOD'\n",
    "\n",
    "    def __init__(self, **kwargs):\n",
    "        self.x_step = int(kwargs['xstep']) # parameter 1\n",
    "        self.y_step = int(kwargs['ystep'])  # parameter 2\n",
    "        self.modelFilename = str(kwargs['modelFilename'])  # parameter 3\n",
    "        super(YOUR_METHOD, self).__init__(**kwargs)\n",
    "\n",
    "    def apply(self, X):\n",
    "        ..\n",
    "        return bvp "
   ]
  },
  {
   "cell_type": "markdown",
   "metadata": {},
   "source": [
    "## Step 4 : code your method\n",
    "\n",
    "Now you have to write the code of your method in the \"apply\" function of your method file.\n",
    "\n",
    "Some guidelines: \n",
    "\n",
    "* self : Object inheriting from VHRMethod\n",
    "\n",
    "* X : sequence to process (by default the RGB signal)\n",
    "\n",
    "* return : takes the following format \"np.array([])\" (by default the BVP signal) \n",
    "\n"
   ]
  },
  {
   "cell_type": "code",
   "execution_count": null,
   "metadata": {},
   "outputs": [],
   "source": [
    "import numpy as np\n",
    "from .base import VHRMethod\n",
    "\n",
    "class YOUR_METHOD(VHRMethod):\n",
    "    methodName = 'YOUR_METHOD'\n",
    "\n",
    "    def __init__(self, **kwargs):\n",
    "        self.x_step = int(kwargs['xstep']) # parameter 1\n",
    "        self.y_step = int(kwargs['ystep'])  # parameter 2\n",
    "        self.modelFilename = str(kwargs['modelFilename'])  # parameter 3\n",
    "        super(YOUR_METHOD, self).__init__(**kwargs)\n",
    "\n",
    "    def apply(self, X):\n",
    "        ##\n",
    "        ## YOUR CODE\n",
    "        ##\n",
    "        return np.array([])"
   ]
  }
 ],
 "metadata": {
  "kernelspec": {
   "display_name": "Python 3",
   "language": "python",
   "name": "python3"
  },
  "language_info": {
   "codemirror_mode": {
    "name": "ipython",
    "version": 3
   },
   "file_extension": ".py",
   "mimetype": "text/x-python",
   "name": "python",
   "nbconvert_exporter": "python",
   "pygments_lexer": "ipython3",
   "version": "3.8.1"
  }
 },
 "nbformat": 4,
 "nbformat_minor": 4
}
