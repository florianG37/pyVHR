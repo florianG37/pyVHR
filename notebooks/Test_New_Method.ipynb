{
 "cells": [
  {
   "cell_type": "markdown",
   "metadata": {},
   "source": [
    "# Importation of pyVHR (Release 0.0.3 on 2 Feb)"
   ]
  },
  {
   "cell_type": "code",
   "execution_count": 9,
   "metadata": {},
   "outputs": [],
   "source": [
    "from pyVHR.analysis.testsuite import TestSuite, TestResult\n",
    "from pyVHR.analysis.stats import StatAnalysis"
   ]
  },
  {
   "cell_type": "markdown",
   "metadata": {},
   "source": [
    "# Comparison of the new method with traditional methods\n",
    "\n",
    "The configuration parameters are defined in the default_test_flo.cfg file.\n",
    "\n",
    "The result is saved in the testResults.h5 file."
   ]
  },
  {
   "cell_type": "code",
   "execution_count": 10,
   "metadata": {},
   "outputs": [
    {
     "name": "stdout",
     "output_type": "stream",
     "text": [
      "** Run the test with the following config:\n",
      "      dataset: UBFC2\n",
      "      methods: ['CHROM', 'GREEN', 'LGI', 'PBV', 'MAP_3DCNN']\n",
      "\n",
      "**** Using Method: CHROM on videoID: 0\n"
     ]
    },
    {
     "name": "stderr",
     "output_type": "stream",
     "text": [
      "c:\\users\\florian\\appdata\\local\\programs\\python\\python38\\lib\\site-packages\\pyVHR\\signals\\video.py:72: UserWarning:\n",
      "\n",
      "\n",
      "WARNING!! Requested detector method is different from the saved one\n",
      "\n",
      "\n"
     ]
    },
    {
     "name": "stdout",
     "output_type": "stream",
     "text": [
      "\n",
      "   * Video filename: ../../../3DCNN/UBFC/DATASET_2/subject1\\vid.avi\n",
      "         Total frames: 1533\n",
      "             Duration: 52.86 (sec)\n",
      "           Frame rate: 29 (fps)\n",
      "                Codec: rawvideo\n",
      "           Num frames: 1533\n",
      "               Height: 480\n",
      "                Width: 480\n",
      "             Detector: 0\n",
      "            Extractor: 52.863395\n",
      "      Extracted faces: found! Loading...\n",
      "\n",
      "    * CHROM params: start time = 0.0, end time = 52.9, winsize = 5.0 (sec)\n",
      "\n",
      "    * Errors: RMSE = 3.66, MAE = 1.81, MAX = 22.94, PCC = 0.89\n",
      "\n",
      "**** Using Method: CHROM on videoID: 1\n",
      "\n",
      "   * Video filename: ../../../3DCNN/UBFC/DATASET_2/subject10\\vid.avi\n",
      "         Total frames: 2023\n",
      "             Duration: 67.75 (sec)\n",
      "           Frame rate: 30 (fps)\n",
      "                Codec: rawvideo\n",
      "           Num frames: 2023\n",
      "               Height: 480\n",
      "                Width: 480\n",
      "             Detector: 0\n",
      "            Extractor: 67.747861\n",
      "      Extracted faces: found! Loading...\n",
      "\n",
      "    * CHROM params: start time = 0.0, end time = 55.9, winsize = 5.0 (sec)\n",
      "\n",
      "    * Errors: RMSE = 34.62, MAE = 15.10, MAX = 107.23, PCC = 0.10\n",
      "\n",
      "**** Using Method: CHROM on videoID: 5\n",
      "\n",
      "   * Video filename: ../../../3DCNN/UBFC/DATASET_2/subject14\\vid.avi\n",
      "         Total frames: 1967\n",
      "             Duration: 67.85 (sec)\n",
      "           Frame rate: 29 (fps)\n",
      "                Codec: rawvideo\n",
      "           Num frames: 1967\n",
      "               Height: 480\n",
      "                Width: 480\n",
      "             Detector: 0\n",
      "            Extractor: 67.853745\n",
      "      Extracted faces: found! Loading...\n",
      "\n",
      "    * CHROM params: start time = 0.0, end time = 55.9, winsize = 5.0 (sec)\n",
      "\n",
      "    * Errors: RMSE = 13.68, MAE = 7.42, MAX = 48.43, PCC = 0.33\n",
      "\n",
      "**** Using Method: CHROM on videoID: 15\n",
      "\n",
      "   * Video filename: ../../../3DCNN/UBFC/DATASET_2/subject26\\vid.avi\n",
      "         Total frames: 1463\n",
      "             Duration: 63.62 (sec)\n",
      "           Frame rate: 23 (fps)\n",
      "                Codec: rawvideo\n",
      "           Num frames: 1463\n",
      "               Height: 480\n",
      "                Width: 480\n",
      "             Detector: 0\n",
      "            Extractor: 63.615984\n",
      "      Extracted faces: found! Loading...\n",
      "\n",
      "    * CHROM params: start time = 0.0, end time = 55.9, winsize = 5.0 (sec)\n",
      "\n",
      "    * Errors: RMSE = 6.97, MAE = 2.43, MAX = 29.65, PCC = 0.40\n",
      "\n",
      "**** Using Method: CHROM on videoID: 20\n",
      "\n",
      "   * Video filename: ../../../3DCNN/UBFC/DATASET_2/subject32\\vid.avi\n",
      "         Total frames: 2032\n",
      "             Duration: 68.11 (sec)\n",
      "           Frame rate: 30 (fps)\n",
      "                Codec: rawvideo\n",
      "           Num frames: 2032\n",
      "               Height: 480\n",
      "                Width: 480\n",
      "             Detector: 0\n",
      "            Extractor: 68.110383\n",
      "      Extracted faces: found! Loading...\n",
      "\n",
      "    * CHROM params: start time = 0.0, end time = 55.9, winsize = 5.0 (sec)\n",
      "\n",
      "    * Errors: RMSE = 18.18, MAE = 8.73, MAX = 57.13, PCC = 0.75\n",
      "\n",
      "**** Using Method: GREEN on videoID: 0\n",
      "\n",
      "   * Video filename: ../../../3DCNN/UBFC/DATASET_2/subject1\\vid.avi\n",
      "         Total frames: 1533\n",
      "             Duration: 52.86 (sec)\n",
      "           Frame rate: 29 (fps)\n",
      "                Codec: rawvideo\n",
      "           Num frames: 1533\n",
      "               Height: 480\n",
      "                Width: 480\n",
      "             Detector: 0\n",
      "            Extractor: 52.863395\n",
      "      Extracted faces: found! Loading...\n",
      "\n",
      "    * GREEN params: start time = 0.0, end time = 52.9, winsize = 5.0 (sec)\n",
      "\n",
      "    * Errors: RMSE = 3.65, MAE = 1.80, MAX = 22.94, PCC = 0.89\n",
      "\n",
      "**** Using Method: GREEN on videoID: 1\n",
      "\n",
      "   * Video filename: ../../../3DCNN/UBFC/DATASET_2/subject10\\vid.avi\n",
      "         Total frames: 2023\n",
      "             Duration: 67.75 (sec)\n",
      "           Frame rate: 30 (fps)\n",
      "                Codec: rawvideo\n",
      "           Num frames: 2023\n",
      "               Height: 480\n",
      "                Width: 480\n",
      "             Detector: 0\n",
      "            Extractor: 67.747861\n",
      "      Extracted faces: found! Loading...\n",
      "\n",
      "    * GREEN params: start time = 0.0, end time = 55.9, winsize = 5.0 (sec)\n",
      "\n",
      "    * Errors: RMSE = 36.18, MAE = 22.52, MAX = 73.83, PCC = 0.27\n",
      "\n",
      "**** Using Method: GREEN on videoID: 5\n",
      "\n",
      "   * Video filename: ../../../3DCNN/UBFC/DATASET_2/subject14\\vid.avi\n",
      "         Total frames: 1967\n",
      "             Duration: 67.85 (sec)\n",
      "           Frame rate: 29 (fps)\n",
      "                Codec: rawvideo\n",
      "           Num frames: 1967\n",
      "               Height: 480\n",
      "                Width: 480\n",
      "             Detector: 0\n",
      "            Extractor: 67.853745\n",
      "      Extracted faces: found! Loading...\n",
      "\n",
      "    * GREEN params: start time = 0.0, end time = 55.9, winsize = 5.0 (sec)\n",
      "\n",
      "    * Errors: RMSE = 51.92, MAE = 39.02, MAX = 163.12, PCC = 0.08\n",
      "\n",
      "**** Using Method: GREEN on videoID: 15\n",
      "\n",
      "   * Video filename: ../../../3DCNN/UBFC/DATASET_2/subject26\\vid.avi\n",
      "         Total frames: 1463\n",
      "             Duration: 63.62 (sec)\n",
      "           Frame rate: 23 (fps)\n",
      "                Codec: rawvideo\n",
      "           Num frames: 1463\n",
      "               Height: 480\n",
      "                Width: 480\n",
      "             Detector: 0\n",
      "            Extractor: 63.615984\n",
      "      Extracted faces: found! Loading...\n",
      "\n",
      "    * GREEN params: start time = 0.0, end time = 55.9, winsize = 5.0 (sec)\n",
      "\n",
      "    * Errors: RMSE = 46.51, MAE = 21.74, MAX = 161.72, PCC = -0.22\n",
      "\n",
      "**** Using Method: GREEN on videoID: 20\n",
      "\n",
      "   * Video filename: ../../../3DCNN/UBFC/DATASET_2/subject32\\vid.avi\n",
      "         Total frames: 2032\n",
      "             Duration: 68.11 (sec)\n",
      "           Frame rate: 30 (fps)\n",
      "                Codec: rawvideo\n",
      "           Num frames: 2032\n",
      "               Height: 480\n",
      "                Width: 480\n",
      "             Detector: 0\n",
      "            Extractor: 68.110383\n",
      "      Extracted faces: found! Loading...\n",
      "\n",
      "    * GREEN params: start time = 0.0, end time = 55.9, winsize = 5.0 (sec)\n",
      "\n",
      "    * Errors: RMSE = 32.89, MAE = 20.14, MAX = 85.25, PCC = 0.50\n",
      "\n",
      "**** Using Method: LGI on videoID: 0\n",
      "\n",
      "   * Video filename: ../../../3DCNN/UBFC/DATASET_2/subject1\\vid.avi\n",
      "         Total frames: 1533\n",
      "             Duration: 52.86 (sec)\n",
      "           Frame rate: 29 (fps)\n",
      "                Codec: rawvideo\n",
      "           Num frames: 1533\n",
      "               Height: 480\n",
      "                Width: 480\n",
      "             Detector: 0\n",
      "            Extractor: 52.863395\n",
      "      Extracted faces: found! Loading...\n",
      "\n",
      "    * LGI params: start time = 0.0, end time = 52.9, winsize = 5.0 (sec)\n",
      "\n",
      "    * Errors: RMSE = 3.84, MAE = 1.80, MAX = 24.64, PCC = 0.88\n",
      "\n",
      "**** Using Method: LGI on videoID: 1\n",
      "\n",
      "   * Video filename: ../../../3DCNN/UBFC/DATASET_2/subject10\\vid.avi\n",
      "         Total frames: 2023\n",
      "             Duration: 67.75 (sec)\n",
      "           Frame rate: 30 (fps)\n",
      "                Codec: rawvideo\n",
      "           Num frames: 2023\n",
      "               Height: 480\n",
      "                Width: 480\n",
      "             Detector: 0\n",
      "            Extractor: 67.747861\n",
      "      Extracted faces: found! Loading...\n",
      "\n",
      "    * LGI params: start time = 0.0, end time = 55.9, winsize = 5.0 (sec)\n",
      "\n",
      "    * Errors: RMSE = 21.76, MAE = 6.64, MAX = 102.83, PCC = 0.35\n",
      "\n",
      "**** Using Method: LGI on videoID: 5\n",
      "\n",
      "   * Video filename: ../../../3DCNN/UBFC/DATASET_2/subject14\\vid.avi\n",
      "         Total frames: 1967\n",
      "             Duration: 67.85 (sec)\n",
      "           Frame rate: 29 (fps)\n",
      "                Codec: rawvideo\n",
      "           Num frames: 1967\n",
      "               Height: 480\n",
      "                Width: 480\n",
      "             Detector: 0\n",
      "            Extractor: 67.853745\n",
      "      Extracted faces: found! Loading...\n",
      "\n",
      "    * LGI params: start time = 0.0, end time = 55.9, winsize = 5.0 (sec)\n",
      "\n",
      "    * Errors: RMSE = 15.14, MAE = 8.69, MAX = 44.18, PCC = 0.32\n",
      "\n",
      "**** Using Method: LGI on videoID: 15\n",
      "\n",
      "   * Video filename: ../../../3DCNN/UBFC/DATASET_2/subject26\\vid.avi\n",
      "         Total frames: 1463\n",
      "             Duration: 63.62 (sec)\n",
      "           Frame rate: 23 (fps)\n",
      "                Codec: rawvideo\n",
      "           Num frames: 1463\n",
      "               Height: 480\n",
      "                Width: 480\n",
      "             Detector: 0\n",
      "            Extractor: 63.615984\n",
      "      Extracted faces: found! Loading...\n",
      "\n",
      "    * LGI params: start time = 0.0, end time = 55.9, winsize = 5.0 (sec)\n",
      "\n",
      "    * Errors: RMSE = 9.26, MAE = 3.83, MAX = 31.00, PCC = 0.31\n",
      "\n",
      "**** Using Method: LGI on videoID: 20\n",
      "\n",
      "   * Video filename: ../../../3DCNN/UBFC/DATASET_2/subject32\\vid.avi\n",
      "         Total frames: 2032\n",
      "             Duration: 68.11 (sec)\n",
      "           Frame rate: 30 (fps)\n",
      "                Codec: rawvideo\n",
      "           Num frames: 2032\n",
      "               Height: 480\n",
      "                Width: 480\n",
      "             Detector: 0\n",
      "            Extractor: 68.110383\n",
      "      Extracted faces: found! Loading...\n",
      "\n",
      "    * LGI params: start time = 0.0, end time = 55.9, winsize = 5.0 (sec)\n"
     ]
    },
    {
     "name": "stdout",
     "output_type": "stream",
     "text": [
      "\n",
      "    * Errors: RMSE = 20.90, MAE = 10.08, MAX = 57.13, PCC = 0.74\n",
      "\n",
      "**** Using Method: PBV on videoID: 0\n",
      "\n",
      "   * Video filename: ../../../3DCNN/UBFC/DATASET_2/subject1\\vid.avi\n",
      "         Total frames: 1533\n",
      "             Duration: 52.86 (sec)\n",
      "           Frame rate: 29 (fps)\n",
      "                Codec: rawvideo\n",
      "           Num frames: 1533\n",
      "               Height: 480\n",
      "                Width: 480\n",
      "             Detector: 0\n",
      "            Extractor: 52.863395\n",
      "      Extracted faces: found! Loading...\n",
      "\n",
      "    * PBV params: start time = 0.0, end time = 52.9, winsize = 5.0 (sec)\n",
      "\n",
      "    * Errors: RMSE = 3.79, MAE = 1.89, MAX = 23.79, PCC = 0.88\n",
      "\n",
      "**** Using Method: PBV on videoID: 1\n",
      "\n",
      "   * Video filename: ../../../3DCNN/UBFC/DATASET_2/subject10\\vid.avi\n",
      "         Total frames: 2023\n",
      "             Duration: 67.75 (sec)\n",
      "           Frame rate: 30 (fps)\n",
      "                Codec: rawvideo\n",
      "           Num frames: 2023\n",
      "               Height: 480\n",
      "                Width: 480\n",
      "             Detector: 0\n",
      "            Extractor: 67.747861\n",
      "      Extracted faces: found! Loading...\n",
      "\n",
      "    * PBV params: start time = 0.0, end time = 55.9, winsize = 5.0 (sec)\n",
      "\n",
      "    * Errors: RMSE = 37.90, MAE = 21.39, MAX = 112.50, PCC = 0.23\n",
      "\n",
      "**** Using Method: PBV on videoID: 5\n",
      "\n",
      "   * Video filename: ../../../3DCNN/UBFC/DATASET_2/subject14\\vid.avi\n",
      "         Total frames: 1967\n",
      "             Duration: 67.85 (sec)\n",
      "           Frame rate: 29 (fps)\n",
      "                Codec: rawvideo\n",
      "           Num frames: 1967\n",
      "               Height: 480\n",
      "                Width: 480\n",
      "             Detector: 0\n",
      "            Extractor: 67.853745\n",
      "      Extracted faces: found! Loading...\n",
      "\n",
      "    * PBV params: start time = 0.0, end time = 55.9, winsize = 5.0 (sec)\n",
      "\n",
      "    * Errors: RMSE = 42.21, MAE = 25.12, MAX = 141.88, PCC = 0.15\n",
      "\n",
      "**** Using Method: PBV on videoID: 15\n",
      "\n",
      "   * Video filename: ../../../3DCNN/UBFC/DATASET_2/subject26\\vid.avi\n",
      "         Total frames: 1463\n",
      "             Duration: 63.62 (sec)\n",
      "           Frame rate: 23 (fps)\n",
      "                Codec: rawvideo\n",
      "           Num frames: 1463\n",
      "               Height: 480\n",
      "                Width: 480\n",
      "             Detector: 0\n",
      "            Extractor: 63.615984\n",
      "      Extracted faces: found! Loading...\n",
      "\n",
      "    * PBV params: start time = 0.0, end time = 55.9, winsize = 5.0 (sec)\n",
      "\n",
      "    * Errors: RMSE = 52.94, MAE = 24.28, MAX = 130.72, PCC = 0.02\n",
      "\n",
      "**** Using Method: PBV on videoID: 20\n",
      "\n",
      "   * Video filename: ../../../3DCNN/UBFC/DATASET_2/subject32\\vid.avi\n",
      "         Total frames: 2032\n",
      "             Duration: 68.11 (sec)\n",
      "           Frame rate: 30 (fps)\n",
      "                Codec: rawvideo\n",
      "           Num frames: 2032\n",
      "               Height: 480\n",
      "                Width: 480\n",
      "             Detector: 0\n",
      "            Extractor: 68.110383\n",
      "      Extracted faces: found! Loading...\n",
      "\n",
      "    * PBV params: start time = 0.0, end time = 55.9, winsize = 5.0 (sec)\n",
      "\n",
      "    * Errors: RMSE = 20.14, MAE = 9.81, MAX = 57.13, PCC = 0.77\n",
      "\n",
      "**** Using Method: MAP_3DCNN on videoID: 0\n",
      "\n",
      "   * Video filename: ../../../3DCNN/UBFC/DATASET_2/subject1\\vid.avi\n",
      "         Total frames: 1533\n",
      "             Duration: 52.86 (sec)\n",
      "           Frame rate: 29 (fps)\n",
      "                Codec: rawvideo\n",
      "           Num frames: 1533\n",
      "               Height: 480\n",
      "                Width: 480\n",
      "             Detector: 0\n",
      "            Extractor: 52.863395\n",
      "      Extracted faces: found! Loading...\n",
      "\n",
      "    * MAP_3DCNN params: start time = 0.0, end time = 52.9, winsize = 5.0 (sec)\n",
      "\n",
      "    * Errors: RMSE = 20.44, MAE = 19.10, MAX = 35.08, PCC = 0.04\n",
      "\n",
      "**** Using Method: MAP_3DCNN on videoID: 1\n",
      "\n",
      "   * Video filename: ../../../3DCNN/UBFC/DATASET_2/subject10\\vid.avi\n",
      "         Total frames: 2023\n",
      "             Duration: 67.75 (sec)\n",
      "           Frame rate: 30 (fps)\n",
      "                Codec: rawvideo\n",
      "           Num frames: 2023\n",
      "               Height: 480\n",
      "                Width: 480\n",
      "             Detector: 0\n",
      "            Extractor: 67.747861\n",
      "      Extracted faces: found! Loading...\n",
      "\n",
      "    * MAP_3DCNN params: start time = 0.0, end time = 55.9, winsize = 5.0 (sec)\n",
      "\n",
      "    * Errors: RMSE = 31.09, MAE = 28.97, MAX = 44.80, PCC = 0.03\n",
      "\n",
      "**** Using Method: MAP_3DCNN on videoID: 5\n",
      "\n",
      "   * Video filename: ../../../3DCNN/UBFC/DATASET_2/subject14\\vid.avi\n",
      "         Total frames: 1967\n",
      "             Duration: 67.85 (sec)\n",
      "           Frame rate: 29 (fps)\n",
      "                Codec: rawvideo\n",
      "           Num frames: 1967\n",
      "               Height: 480\n",
      "                Width: 480\n",
      "             Detector: 0\n",
      "            Extractor: 67.853745\n",
      "      Extracted faces: found! Loading...\n",
      "\n",
      "    * MAP_3DCNN params: start time = 0.0, end time = 55.9, winsize = 5.0 (sec)\n",
      "\n",
      "    * Errors: RMSE = 12.27, MAE = 10.60, MAX = 23.90, PCC = -0.04\n",
      "\n",
      "**** Using Method: MAP_3DCNN on videoID: 15\n",
      "\n",
      "   * Video filename: ../../../3DCNN/UBFC/DATASET_2/subject26\\vid.avi\n",
      "         Total frames: 1463\n",
      "             Duration: 63.62 (sec)\n",
      "           Frame rate: 23 (fps)\n",
      "                Codec: rawvideo\n",
      "           Num frames: 1463\n",
      "               Height: 480\n",
      "                Width: 480\n",
      "             Detector: 0\n",
      "            Extractor: 63.615984\n",
      "      Extracted faces: found! Loading...\n",
      "\n",
      "    * MAP_3DCNN params: start time = 0.0, end time = 55.9, winsize = 5.0 (sec)\n",
      "\n",
      "    * Errors: RMSE = 5.92, MAE = 4.98, MAX = 11.03, PCC = -0.15\n",
      "\n",
      "**** Using Method: MAP_3DCNN on videoID: 20\n",
      "\n",
      "   * Video filename: ../../../3DCNN/UBFC/DATASET_2/subject32\\vid.avi\n",
      "         Total frames: 2032\n",
      "             Duration: 68.11 (sec)\n",
      "           Frame rate: 30 (fps)\n",
      "                Codec: rawvideo\n",
      "           Num frames: 2032\n",
      "               Height: 480\n",
      "                Width: 480\n",
      "             Detector: 0\n",
      "            Extractor: 68.110383\n",
      "      Extracted faces: found! Loading...\n",
      "\n",
      "    * MAP_3DCNN params: start time = 0.0, end time = 55.9, winsize = 5.0 (sec)\n",
      "\n",
      "    * Errors: RMSE = 24.77, MAE = 22.24, MAX = 45.77, PCC = 0.08\n"
     ]
    },
    {
     "name": "stderr",
     "output_type": "stream",
     "text": [
      "c:\\users\\florian\\appdata\\local\\programs\\python\\python38\\lib\\site-packages\\pandas\\core\\generic.py:2490: PerformanceWarning:\n",
      "\n",
      "\n",
      "your performance may suffer as PyTables will pickle object types that it cannot\n",
      "map directly to c-types [inferred_type->mixed,key->block1_values] [items->Index(['MAE', 'MAX', 'PCC', 'RMSE', 'bpmES', 'bpmGT', 'dataset', 'mask',\n",
      "       'method', 'sigFilename', 'telapse', 'timeES', 'timeGT',\n",
      "       'videoFilename'],\n",
      "      dtype='object')]\n",
      "\n",
      "\n"
     ]
    },
    {
     "data": {
      "text/plain": [
       "<pyVHR.analysis.testsuite.TestResult at 0x136c3f73f10>"
      ]
     },
     "execution_count": 10,
     "metadata": {},
     "output_type": "execute_result"
    }
   ],
   "source": [
    "cfgFilename = '../pyVHR/analysis/default_test_flo.cfg'\n",
    "\n",
    "test = TestSuite(configFilename=cfgFilename)\n",
    "\n",
    "test.start(verb=1)"
   ]
  },
  {
   "cell_type": "markdown",
   "metadata": {},
   "source": [
    "# Display of graphs comparing methods\n",
    "\n",
    "MAE : Mean Absolute Error\n",
    "\n",
    "PCC : Pearson Correlation Coefficient\n",
    "\n",
    "RMSE : Root Mean Squared Error"
   ]
  },
  {
   "cell_type": "code",
   "execution_count": 11,
   "metadata": {},
   "outputs": [
    {
     "data": {
      "application/vnd.plotly.v1+json": {
       "config": {
        "plotlyServerURL": "https://plot.ly"
       },
       "data": [
        {
         "boxpoints": "all",
         "fillcolor": "rgba(85,85,85,0.5)",
         "jitter": 0.7,
         "line": {
          "color": "rgba(0,0,255,0.5)",
          "width": 2
         },
         "marker": {
          "size": 2
         },
         "name": "CHROM",
         "type": "box",
         "y": [
          1.8114313089622642,
          15.098353794642858,
          7.418910435267857,
          2.4305943080357144,
          8.726283482142858
         ]
        },
        {
         "boxpoints": "all",
         "fillcolor": "rgba(155,155,155,0.5)",
         "jitter": 0.7,
         "line": {
          "color": "rgba(0,0,255,0.5)",
          "width": 2
         },
         "marker": {
          "size": 2
         },
         "name": "GREEN",
         "type": "box",
         "y": [
          1.7954009433962264,
          22.52197265625,
          39.02134486607143,
          21.742989676339285,
          20.136369977678573
         ]
        },
        {
         "boxpoints": "all",
         "fillcolor": "rgba(80,80,80,0.5)",
         "jitter": 0.7,
         "line": {
          "color": "rgba(0,0,255,0.5)",
          "width": 2
         },
         "marker": {
          "size": 2
         },
         "name": "LGI",
         "type": "box",
         "y": [
          1.7954009433962264,
          6.638881138392857,
          8.693324497767858,
          3.826381138392857,
          10.076032366071429
         ]
        },
        {
         "boxpoints": "all",
         "fillcolor": "rgba(145,145,145,0.5)",
         "jitter": 0.7,
         "line": {
          "color": "rgba(0,0,255,0.5)",
          "width": 2
         },
         "marker": {
          "size": 2
         },
         "name": "MAP_3DCNN",
         "type": "box",
         "y": [
          19.09931552085886,
          28.974714825601552,
          10.599271512683925,
          4.98152971106921,
          22.243193190737834
         ]
        },
        {
         "boxpoints": "all",
         "fillcolor": "rgba(155,155,155,0.5)",
         "jitter": 0.7,
         "line": {
          "color": "rgba(0,0,255,0.5)",
          "width": 2
         },
         "marker": {
          "size": 2
         },
         "name": "PBV",
         "type": "box",
         "y": [
          1.891583136792453,
          21.391950334821427,
          25.124162946428573,
          24.281877790178573,
          9.809221540178571
         ]
        }
       ],
       "layout": {
        "font": {
         "color": "rgb(20,20,20)",
         "family": "monospace",
         "size": 16
        },
        "margin": {
         "b": 20,
         "l": 20,
         "r": 10,
         "t": 40
        },
        "paper_bgcolor": "rgb(250, 250, 250)",
        "plot_bgcolor": "rgb(243, 243, 243)",
        "showlegend": false,
        "template": {
         "data": {
          "bar": [
           {
            "error_x": {
             "color": "#2a3f5f"
            },
            "error_y": {
             "color": "#2a3f5f"
            },
            "marker": {
             "line": {
              "color": "#E5ECF6",
              "width": 0.5
             }
            },
            "type": "bar"
           }
          ],
          "barpolar": [
           {
            "marker": {
             "line": {
              "color": "#E5ECF6",
              "width": 0.5
             }
            },
            "type": "barpolar"
           }
          ],
          "carpet": [
           {
            "aaxis": {
             "endlinecolor": "#2a3f5f",
             "gridcolor": "white",
             "linecolor": "white",
             "minorgridcolor": "white",
             "startlinecolor": "#2a3f5f"
            },
            "baxis": {
             "endlinecolor": "#2a3f5f",
             "gridcolor": "white",
             "linecolor": "white",
             "minorgridcolor": "white",
             "startlinecolor": "#2a3f5f"
            },
            "type": "carpet"
           }
          ],
          "choropleth": [
           {
            "colorbar": {
             "outlinewidth": 0,
             "ticks": ""
            },
            "type": "choropleth"
           }
          ],
          "contour": [
           {
            "colorbar": {
             "outlinewidth": 0,
             "ticks": ""
            },
            "colorscale": [
             [
              0,
              "#0d0887"
             ],
             [
              0.1111111111111111,
              "#46039f"
             ],
             [
              0.2222222222222222,
              "#7201a8"
             ],
             [
              0.3333333333333333,
              "#9c179e"
             ],
             [
              0.4444444444444444,
              "#bd3786"
             ],
             [
              0.5555555555555556,
              "#d8576b"
             ],
             [
              0.6666666666666666,
              "#ed7953"
             ],
             [
              0.7777777777777778,
              "#fb9f3a"
             ],
             [
              0.8888888888888888,
              "#fdca26"
             ],
             [
              1,
              "#f0f921"
             ]
            ],
            "type": "contour"
           }
          ],
          "contourcarpet": [
           {
            "colorbar": {
             "outlinewidth": 0,
             "ticks": ""
            },
            "type": "contourcarpet"
           }
          ],
          "heatmap": [
           {
            "colorbar": {
             "outlinewidth": 0,
             "ticks": ""
            },
            "colorscale": [
             [
              0,
              "#0d0887"
             ],
             [
              0.1111111111111111,
              "#46039f"
             ],
             [
              0.2222222222222222,
              "#7201a8"
             ],
             [
              0.3333333333333333,
              "#9c179e"
             ],
             [
              0.4444444444444444,
              "#bd3786"
             ],
             [
              0.5555555555555556,
              "#d8576b"
             ],
             [
              0.6666666666666666,
              "#ed7953"
             ],
             [
              0.7777777777777778,
              "#fb9f3a"
             ],
             [
              0.8888888888888888,
              "#fdca26"
             ],
             [
              1,
              "#f0f921"
             ]
            ],
            "type": "heatmap"
           }
          ],
          "heatmapgl": [
           {
            "colorbar": {
             "outlinewidth": 0,
             "ticks": ""
            },
            "colorscale": [
             [
              0,
              "#0d0887"
             ],
             [
              0.1111111111111111,
              "#46039f"
             ],
             [
              0.2222222222222222,
              "#7201a8"
             ],
             [
              0.3333333333333333,
              "#9c179e"
             ],
             [
              0.4444444444444444,
              "#bd3786"
             ],
             [
              0.5555555555555556,
              "#d8576b"
             ],
             [
              0.6666666666666666,
              "#ed7953"
             ],
             [
              0.7777777777777778,
              "#fb9f3a"
             ],
             [
              0.8888888888888888,
              "#fdca26"
             ],
             [
              1,
              "#f0f921"
             ]
            ],
            "type": "heatmapgl"
           }
          ],
          "histogram": [
           {
            "marker": {
             "colorbar": {
              "outlinewidth": 0,
              "ticks": ""
             }
            },
            "type": "histogram"
           }
          ],
          "histogram2d": [
           {
            "colorbar": {
             "outlinewidth": 0,
             "ticks": ""
            },
            "colorscale": [
             [
              0,
              "#0d0887"
             ],
             [
              0.1111111111111111,
              "#46039f"
             ],
             [
              0.2222222222222222,
              "#7201a8"
             ],
             [
              0.3333333333333333,
              "#9c179e"
             ],
             [
              0.4444444444444444,
              "#bd3786"
             ],
             [
              0.5555555555555556,
              "#d8576b"
             ],
             [
              0.6666666666666666,
              "#ed7953"
             ],
             [
              0.7777777777777778,
              "#fb9f3a"
             ],
             [
              0.8888888888888888,
              "#fdca26"
             ],
             [
              1,
              "#f0f921"
             ]
            ],
            "type": "histogram2d"
           }
          ],
          "histogram2dcontour": [
           {
            "colorbar": {
             "outlinewidth": 0,
             "ticks": ""
            },
            "colorscale": [
             [
              0,
              "#0d0887"
             ],
             [
              0.1111111111111111,
              "#46039f"
             ],
             [
              0.2222222222222222,
              "#7201a8"
             ],
             [
              0.3333333333333333,
              "#9c179e"
             ],
             [
              0.4444444444444444,
              "#bd3786"
             ],
             [
              0.5555555555555556,
              "#d8576b"
             ],
             [
              0.6666666666666666,
              "#ed7953"
             ],
             [
              0.7777777777777778,
              "#fb9f3a"
             ],
             [
              0.8888888888888888,
              "#fdca26"
             ],
             [
              1,
              "#f0f921"
             ]
            ],
            "type": "histogram2dcontour"
           }
          ],
          "mesh3d": [
           {
            "colorbar": {
             "outlinewidth": 0,
             "ticks": ""
            },
            "type": "mesh3d"
           }
          ],
          "parcoords": [
           {
            "line": {
             "colorbar": {
              "outlinewidth": 0,
              "ticks": ""
             }
            },
            "type": "parcoords"
           }
          ],
          "pie": [
           {
            "automargin": true,
            "type": "pie"
           }
          ],
          "scatter": [
           {
            "marker": {
             "colorbar": {
              "outlinewidth": 0,
              "ticks": ""
             }
            },
            "type": "scatter"
           }
          ],
          "scatter3d": [
           {
            "line": {
             "colorbar": {
              "outlinewidth": 0,
              "ticks": ""
             }
            },
            "marker": {
             "colorbar": {
              "outlinewidth": 0,
              "ticks": ""
             }
            },
            "type": "scatter3d"
           }
          ],
          "scattercarpet": [
           {
            "marker": {
             "colorbar": {
              "outlinewidth": 0,
              "ticks": ""
             }
            },
            "type": "scattercarpet"
           }
          ],
          "scattergeo": [
           {
            "marker": {
             "colorbar": {
              "outlinewidth": 0,
              "ticks": ""
             }
            },
            "type": "scattergeo"
           }
          ],
          "scattergl": [
           {
            "marker": {
             "colorbar": {
              "outlinewidth": 0,
              "ticks": ""
             }
            },
            "type": "scattergl"
           }
          ],
          "scattermapbox": [
           {
            "marker": {
             "colorbar": {
              "outlinewidth": 0,
              "ticks": ""
             }
            },
            "type": "scattermapbox"
           }
          ],
          "scatterpolar": [
           {
            "marker": {
             "colorbar": {
              "outlinewidth": 0,
              "ticks": ""
             }
            },
            "type": "scatterpolar"
           }
          ],
          "scatterpolargl": [
           {
            "marker": {
             "colorbar": {
              "outlinewidth": 0,
              "ticks": ""
             }
            },
            "type": "scatterpolargl"
           }
          ],
          "scatterternary": [
           {
            "marker": {
             "colorbar": {
              "outlinewidth": 0,
              "ticks": ""
             }
            },
            "type": "scatterternary"
           }
          ],
          "surface": [
           {
            "colorbar": {
             "outlinewidth": 0,
             "ticks": ""
            },
            "colorscale": [
             [
              0,
              "#0d0887"
             ],
             [
              0.1111111111111111,
              "#46039f"
             ],
             [
              0.2222222222222222,
              "#7201a8"
             ],
             [
              0.3333333333333333,
              "#9c179e"
             ],
             [
              0.4444444444444444,
              "#bd3786"
             ],
             [
              0.5555555555555556,
              "#d8576b"
             ],
             [
              0.6666666666666666,
              "#ed7953"
             ],
             [
              0.7777777777777778,
              "#fb9f3a"
             ],
             [
              0.8888888888888888,
              "#fdca26"
             ],
             [
              1,
              "#f0f921"
             ]
            ],
            "type": "surface"
           }
          ],
          "table": [
           {
            "cells": {
             "fill": {
              "color": "#EBF0F8"
             },
             "line": {
              "color": "white"
             }
            },
            "header": {
             "fill": {
              "color": "#C8D4E3"
             },
             "line": {
              "color": "white"
             }
            },
            "type": "table"
           }
          ]
         },
         "layout": {
          "annotationdefaults": {
           "arrowcolor": "#2a3f5f",
           "arrowhead": 0,
           "arrowwidth": 1
          },
          "coloraxis": {
           "colorbar": {
            "outlinewidth": 0,
            "ticks": ""
           }
          },
          "colorscale": {
           "diverging": [
            [
             0,
             "#8e0152"
            ],
            [
             0.1,
             "#c51b7d"
            ],
            [
             0.2,
             "#de77ae"
            ],
            [
             0.3,
             "#f1b6da"
            ],
            [
             0.4,
             "#fde0ef"
            ],
            [
             0.5,
             "#f7f7f7"
            ],
            [
             0.6,
             "#e6f5d0"
            ],
            [
             0.7,
             "#b8e186"
            ],
            [
             0.8,
             "#7fbc41"
            ],
            [
             0.9,
             "#4d9221"
            ],
            [
             1,
             "#276419"
            ]
           ],
           "sequential": [
            [
             0,
             "#0d0887"
            ],
            [
             0.1111111111111111,
             "#46039f"
            ],
            [
             0.2222222222222222,
             "#7201a8"
            ],
            [
             0.3333333333333333,
             "#9c179e"
            ],
            [
             0.4444444444444444,
             "#bd3786"
            ],
            [
             0.5555555555555556,
             "#d8576b"
            ],
            [
             0.6666666666666666,
             "#ed7953"
            ],
            [
             0.7777777777777778,
             "#fb9f3a"
            ],
            [
             0.8888888888888888,
             "#fdca26"
            ],
            [
             1,
             "#f0f921"
            ]
           ],
           "sequentialminus": [
            [
             0,
             "#0d0887"
            ],
            [
             0.1111111111111111,
             "#46039f"
            ],
            [
             0.2222222222222222,
             "#7201a8"
            ],
            [
             0.3333333333333333,
             "#9c179e"
            ],
            [
             0.4444444444444444,
             "#bd3786"
            ],
            [
             0.5555555555555556,
             "#d8576b"
            ],
            [
             0.6666666666666666,
             "#ed7953"
            ],
            [
             0.7777777777777778,
             "#fb9f3a"
            ],
            [
             0.8888888888888888,
             "#fdca26"
            ],
            [
             1,
             "#f0f921"
            ]
           ]
          },
          "colorway": [
           "#636efa",
           "#EF553B",
           "#00cc96",
           "#ab63fa",
           "#FFA15A",
           "#19d3f3",
           "#FF6692",
           "#B6E880",
           "#FF97FF",
           "#FECB52"
          ],
          "font": {
           "color": "#2a3f5f"
          },
          "geo": {
           "bgcolor": "white",
           "lakecolor": "white",
           "landcolor": "#E5ECF6",
           "showlakes": true,
           "showland": true,
           "subunitcolor": "white"
          },
          "hoverlabel": {
           "align": "left"
          },
          "hovermode": "closest",
          "mapbox": {
           "style": "light"
          },
          "paper_bgcolor": "white",
          "plot_bgcolor": "#E5ECF6",
          "polar": {
           "angularaxis": {
            "gridcolor": "white",
            "linecolor": "white",
            "ticks": ""
           },
           "bgcolor": "#E5ECF6",
           "radialaxis": {
            "gridcolor": "white",
            "linecolor": "white",
            "ticks": ""
           }
          },
          "scene": {
           "xaxis": {
            "backgroundcolor": "#E5ECF6",
            "gridcolor": "white",
            "gridwidth": 2,
            "linecolor": "white",
            "showbackground": true,
            "ticks": "",
            "zerolinecolor": "white"
           },
           "yaxis": {
            "backgroundcolor": "#E5ECF6",
            "gridcolor": "white",
            "gridwidth": 2,
            "linecolor": "white",
            "showbackground": true,
            "ticks": "",
            "zerolinecolor": "white"
           },
           "zaxis": {
            "backgroundcolor": "#E5ECF6",
            "gridcolor": "white",
            "gridwidth": 2,
            "linecolor": "white",
            "showbackground": true,
            "ticks": "",
            "zerolinecolor": "white"
           }
          },
          "shapedefaults": {
           "line": {
            "color": "#2a3f5f"
           }
          },
          "ternary": {
           "aaxis": {
            "gridcolor": "white",
            "linecolor": "white",
            "ticks": ""
           },
           "baxis": {
            "gridcolor": "white",
            "linecolor": "white",
            "ticks": ""
           },
           "bgcolor": "#E5ECF6",
           "caxis": {
            "gridcolor": "white",
            "linecolor": "white",
            "ticks": ""
           }
          },
          "title": {
           "x": 0.05
          },
          "xaxis": {
           "automargin": true,
           "gridcolor": "white",
           "linecolor": "white",
           "ticks": "",
           "title": {
            "standoff": 15
           },
           "zerolinecolor": "white",
           "zerolinewidth": 2
          },
          "yaxis": {
           "automargin": true,
           "gridcolor": "white",
           "linecolor": "white",
           "ticks": "",
           "title": {
            "standoff": 15
           },
           "zerolinecolor": "white",
           "zerolinewidth": 2
          }
         }
        },
        "title": {
         "text": "Metric: MAE"
        },
        "xaxis": {
         "type": "category"
        },
        "yaxis": {
         "autorange": true,
         "gridcolor": "rgb(255,255,255)",
         "gridwidth": 0.1,
         "showgrid": true,
         "title": {
          "font": {
           "size": 30
          }
         },
         "type": "log",
         "zeroline": true,
         "zerolinewidth": 2
        }
       }
      },
      "text/html": [
       "<div>\n",
       "        \n",
       "        \n",
       "            <div id=\"f93d94f1-2c88-48f1-a93c-a65379b46e7b\" class=\"plotly-graph-div\" style=\"height:525px; width:100%;\"></div>\n",
       "            <script type=\"text/javascript\">\n",
       "                require([\"plotly\"], function(Plotly) {\n",
       "                    window.PLOTLYENV=window.PLOTLYENV || {};\n",
       "                    \n",
       "                if (document.getElementById(\"f93d94f1-2c88-48f1-a93c-a65379b46e7b\")) {\n",
       "                    Plotly.newPlot(\n",
       "                        'f93d94f1-2c88-48f1-a93c-a65379b46e7b',\n",
       "                        [{\"boxpoints\": \"all\", \"fillcolor\": \"rgba(85,85,85,0.5)\", \"jitter\": 0.7, \"line\": {\"color\": \"rgba(0,0,255,0.5)\", \"width\": 2}, \"marker\": {\"size\": 2}, \"name\": \"CHROM\", \"type\": \"box\", \"y\": [1.8114313089622642, 15.098353794642858, 7.418910435267857, 2.4305943080357144, 8.726283482142858]}, {\"boxpoints\": \"all\", \"fillcolor\": \"rgba(155,155,155,0.5)\", \"jitter\": 0.7, \"line\": {\"color\": \"rgba(0,0,255,0.5)\", \"width\": 2}, \"marker\": {\"size\": 2}, \"name\": \"GREEN\", \"type\": \"box\", \"y\": [1.7954009433962264, 22.52197265625, 39.02134486607143, 21.742989676339285, 20.136369977678573]}, {\"boxpoints\": \"all\", \"fillcolor\": \"rgba(80,80,80,0.5)\", \"jitter\": 0.7, \"line\": {\"color\": \"rgba(0,0,255,0.5)\", \"width\": 2}, \"marker\": {\"size\": 2}, \"name\": \"LGI\", \"type\": \"box\", \"y\": [1.7954009433962264, 6.638881138392857, 8.693324497767858, 3.826381138392857, 10.076032366071429]}, {\"boxpoints\": \"all\", \"fillcolor\": \"rgba(145,145,145,0.5)\", \"jitter\": 0.7, \"line\": {\"color\": \"rgba(0,0,255,0.5)\", \"width\": 2}, \"marker\": {\"size\": 2}, \"name\": \"MAP_3DCNN\", \"type\": \"box\", \"y\": [19.09931552085886, 28.974714825601552, 10.599271512683925, 4.98152971106921, 22.243193190737834]}, {\"boxpoints\": \"all\", \"fillcolor\": \"rgba(155,155,155,0.5)\", \"jitter\": 0.7, \"line\": {\"color\": \"rgba(0,0,255,0.5)\", \"width\": 2}, \"marker\": {\"size\": 2}, \"name\": \"PBV\", \"type\": \"box\", \"y\": [1.891583136792453, 21.391950334821427, 25.124162946428573, 24.281877790178573, 9.809221540178571]}],\n",
       "                        {\"font\": {\"color\": \"rgb(20,20,20)\", \"family\": \"monospace\", \"size\": 16}, \"margin\": {\"b\": 20, \"l\": 20, \"r\": 10, \"t\": 40}, \"paper_bgcolor\": \"rgb(250, 250, 250)\", \"plot_bgcolor\": \"rgb(243, 243, 243)\", \"showlegend\": false, \"template\": {\"data\": {\"bar\": [{\"error_x\": {\"color\": \"#2a3f5f\"}, \"error_y\": {\"color\": \"#2a3f5f\"}, \"marker\": {\"line\": {\"color\": \"#E5ECF6\", \"width\": 0.5}}, \"type\": \"bar\"}], \"barpolar\": [{\"marker\": {\"line\": {\"color\": \"#E5ECF6\", \"width\": 0.5}}, \"type\": \"barpolar\"}], \"carpet\": [{\"aaxis\": {\"endlinecolor\": \"#2a3f5f\", \"gridcolor\": \"white\", \"linecolor\": \"white\", \"minorgridcolor\": \"white\", \"startlinecolor\": \"#2a3f5f\"}, \"baxis\": {\"endlinecolor\": \"#2a3f5f\", \"gridcolor\": \"white\", \"linecolor\": \"white\", \"minorgridcolor\": \"white\", \"startlinecolor\": \"#2a3f5f\"}, \"type\": \"carpet\"}], \"choropleth\": [{\"colorbar\": {\"outlinewidth\": 0, \"ticks\": \"\"}, \"type\": \"choropleth\"}], \"contour\": [{\"colorbar\": {\"outlinewidth\": 0, \"ticks\": \"\"}, \"colorscale\": [[0.0, \"#0d0887\"], [0.1111111111111111, \"#46039f\"], [0.2222222222222222, \"#7201a8\"], [0.3333333333333333, \"#9c179e\"], [0.4444444444444444, \"#bd3786\"], [0.5555555555555556, \"#d8576b\"], [0.6666666666666666, \"#ed7953\"], [0.7777777777777778, \"#fb9f3a\"], [0.8888888888888888, \"#fdca26\"], [1.0, \"#f0f921\"]], \"type\": \"contour\"}], \"contourcarpet\": [{\"colorbar\": {\"outlinewidth\": 0, \"ticks\": \"\"}, \"type\": \"contourcarpet\"}], \"heatmap\": [{\"colorbar\": {\"outlinewidth\": 0, \"ticks\": \"\"}, \"colorscale\": [[0.0, \"#0d0887\"], [0.1111111111111111, \"#46039f\"], [0.2222222222222222, \"#7201a8\"], [0.3333333333333333, \"#9c179e\"], [0.4444444444444444, \"#bd3786\"], [0.5555555555555556, \"#d8576b\"], [0.6666666666666666, \"#ed7953\"], [0.7777777777777778, \"#fb9f3a\"], [0.8888888888888888, \"#fdca26\"], [1.0, \"#f0f921\"]], \"type\": \"heatmap\"}], \"heatmapgl\": [{\"colorbar\": {\"outlinewidth\": 0, \"ticks\": \"\"}, \"colorscale\": [[0.0, \"#0d0887\"], [0.1111111111111111, \"#46039f\"], [0.2222222222222222, \"#7201a8\"], [0.3333333333333333, \"#9c179e\"], [0.4444444444444444, \"#bd3786\"], [0.5555555555555556, \"#d8576b\"], [0.6666666666666666, \"#ed7953\"], [0.7777777777777778, \"#fb9f3a\"], [0.8888888888888888, \"#fdca26\"], [1.0, \"#f0f921\"]], \"type\": \"heatmapgl\"}], \"histogram\": [{\"marker\": {\"colorbar\": {\"outlinewidth\": 0, \"ticks\": \"\"}}, \"type\": \"histogram\"}], \"histogram2d\": [{\"colorbar\": {\"outlinewidth\": 0, \"ticks\": \"\"}, \"colorscale\": [[0.0, \"#0d0887\"], [0.1111111111111111, \"#46039f\"], [0.2222222222222222, \"#7201a8\"], [0.3333333333333333, \"#9c179e\"], [0.4444444444444444, \"#bd3786\"], [0.5555555555555556, \"#d8576b\"], [0.6666666666666666, \"#ed7953\"], [0.7777777777777778, \"#fb9f3a\"], [0.8888888888888888, \"#fdca26\"], [1.0, \"#f0f921\"]], \"type\": \"histogram2d\"}], \"histogram2dcontour\": [{\"colorbar\": {\"outlinewidth\": 0, \"ticks\": \"\"}, \"colorscale\": [[0.0, \"#0d0887\"], [0.1111111111111111, \"#46039f\"], [0.2222222222222222, \"#7201a8\"], [0.3333333333333333, \"#9c179e\"], [0.4444444444444444, \"#bd3786\"], [0.5555555555555556, \"#d8576b\"], [0.6666666666666666, \"#ed7953\"], [0.7777777777777778, \"#fb9f3a\"], [0.8888888888888888, \"#fdca26\"], [1.0, \"#f0f921\"]], \"type\": \"histogram2dcontour\"}], \"mesh3d\": [{\"colorbar\": {\"outlinewidth\": 0, \"ticks\": \"\"}, \"type\": \"mesh3d\"}], \"parcoords\": [{\"line\": {\"colorbar\": {\"outlinewidth\": 0, \"ticks\": \"\"}}, \"type\": \"parcoords\"}], \"pie\": [{\"automargin\": true, \"type\": \"pie\"}], \"scatter\": [{\"marker\": {\"colorbar\": {\"outlinewidth\": 0, \"ticks\": \"\"}}, \"type\": \"scatter\"}], \"scatter3d\": [{\"line\": {\"colorbar\": {\"outlinewidth\": 0, \"ticks\": \"\"}}, \"marker\": {\"colorbar\": {\"outlinewidth\": 0, \"ticks\": \"\"}}, \"type\": \"scatter3d\"}], \"scattercarpet\": [{\"marker\": {\"colorbar\": {\"outlinewidth\": 0, \"ticks\": \"\"}}, \"type\": \"scattercarpet\"}], \"scattergeo\": [{\"marker\": {\"colorbar\": {\"outlinewidth\": 0, \"ticks\": \"\"}}, \"type\": \"scattergeo\"}], \"scattergl\": [{\"marker\": {\"colorbar\": {\"outlinewidth\": 0, \"ticks\": \"\"}}, \"type\": \"scattergl\"}], \"scattermapbox\": [{\"marker\": {\"colorbar\": {\"outlinewidth\": 0, \"ticks\": \"\"}}, \"type\": \"scattermapbox\"}], \"scatterpolar\": [{\"marker\": {\"colorbar\": {\"outlinewidth\": 0, \"ticks\": \"\"}}, \"type\": \"scatterpolar\"}], \"scatterpolargl\": [{\"marker\": {\"colorbar\": {\"outlinewidth\": 0, \"ticks\": \"\"}}, \"type\": \"scatterpolargl\"}], \"scatterternary\": [{\"marker\": {\"colorbar\": {\"outlinewidth\": 0, \"ticks\": \"\"}}, \"type\": \"scatterternary\"}], \"surface\": [{\"colorbar\": {\"outlinewidth\": 0, \"ticks\": \"\"}, \"colorscale\": [[0.0, \"#0d0887\"], [0.1111111111111111, \"#46039f\"], [0.2222222222222222, \"#7201a8\"], [0.3333333333333333, \"#9c179e\"], [0.4444444444444444, \"#bd3786\"], [0.5555555555555556, \"#d8576b\"], [0.6666666666666666, \"#ed7953\"], [0.7777777777777778, \"#fb9f3a\"], [0.8888888888888888, \"#fdca26\"], [1.0, \"#f0f921\"]], \"type\": \"surface\"}], \"table\": [{\"cells\": {\"fill\": {\"color\": \"#EBF0F8\"}, \"line\": {\"color\": \"white\"}}, \"header\": {\"fill\": {\"color\": \"#C8D4E3\"}, \"line\": {\"color\": \"white\"}}, \"type\": \"table\"}]}, \"layout\": {\"annotationdefaults\": {\"arrowcolor\": \"#2a3f5f\", \"arrowhead\": 0, \"arrowwidth\": 1}, \"coloraxis\": {\"colorbar\": {\"outlinewidth\": 0, \"ticks\": \"\"}}, \"colorscale\": {\"diverging\": [[0, \"#8e0152\"], [0.1, \"#c51b7d\"], [0.2, \"#de77ae\"], [0.3, \"#f1b6da\"], [0.4, \"#fde0ef\"], [0.5, \"#f7f7f7\"], [0.6, \"#e6f5d0\"], [0.7, \"#b8e186\"], [0.8, \"#7fbc41\"], [0.9, \"#4d9221\"], [1, \"#276419\"]], \"sequential\": [[0.0, \"#0d0887\"], [0.1111111111111111, \"#46039f\"], [0.2222222222222222, \"#7201a8\"], [0.3333333333333333, \"#9c179e\"], [0.4444444444444444, \"#bd3786\"], [0.5555555555555556, \"#d8576b\"], [0.6666666666666666, \"#ed7953\"], [0.7777777777777778, \"#fb9f3a\"], [0.8888888888888888, \"#fdca26\"], [1.0, \"#f0f921\"]], \"sequentialminus\": [[0.0, \"#0d0887\"], [0.1111111111111111, \"#46039f\"], [0.2222222222222222, \"#7201a8\"], [0.3333333333333333, \"#9c179e\"], [0.4444444444444444, \"#bd3786\"], [0.5555555555555556, \"#d8576b\"], [0.6666666666666666, \"#ed7953\"], [0.7777777777777778, \"#fb9f3a\"], [0.8888888888888888, \"#fdca26\"], [1.0, \"#f0f921\"]]}, \"colorway\": [\"#636efa\", \"#EF553B\", \"#00cc96\", \"#ab63fa\", \"#FFA15A\", \"#19d3f3\", \"#FF6692\", \"#B6E880\", \"#FF97FF\", \"#FECB52\"], \"font\": {\"color\": \"#2a3f5f\"}, \"geo\": {\"bgcolor\": \"white\", \"lakecolor\": \"white\", \"landcolor\": \"#E5ECF6\", \"showlakes\": true, \"showland\": true, \"subunitcolor\": \"white\"}, \"hoverlabel\": {\"align\": \"left\"}, \"hovermode\": \"closest\", \"mapbox\": {\"style\": \"light\"}, \"paper_bgcolor\": \"white\", \"plot_bgcolor\": \"#E5ECF6\", \"polar\": {\"angularaxis\": {\"gridcolor\": \"white\", \"linecolor\": \"white\", \"ticks\": \"\"}, \"bgcolor\": \"#E5ECF6\", \"radialaxis\": {\"gridcolor\": \"white\", \"linecolor\": \"white\", \"ticks\": \"\"}}, \"scene\": {\"xaxis\": {\"backgroundcolor\": \"#E5ECF6\", \"gridcolor\": \"white\", \"gridwidth\": 2, \"linecolor\": \"white\", \"showbackground\": true, \"ticks\": \"\", \"zerolinecolor\": \"white\"}, \"yaxis\": {\"backgroundcolor\": \"#E5ECF6\", \"gridcolor\": \"white\", \"gridwidth\": 2, \"linecolor\": \"white\", \"showbackground\": true, \"ticks\": \"\", \"zerolinecolor\": \"white\"}, \"zaxis\": {\"backgroundcolor\": \"#E5ECF6\", \"gridcolor\": \"white\", \"gridwidth\": 2, \"linecolor\": \"white\", \"showbackground\": true, \"ticks\": \"\", \"zerolinecolor\": \"white\"}}, \"shapedefaults\": {\"line\": {\"color\": \"#2a3f5f\"}}, \"ternary\": {\"aaxis\": {\"gridcolor\": \"white\", \"linecolor\": \"white\", \"ticks\": \"\"}, \"baxis\": {\"gridcolor\": \"white\", \"linecolor\": \"white\", \"ticks\": \"\"}, \"bgcolor\": \"#E5ECF6\", \"caxis\": {\"gridcolor\": \"white\", \"linecolor\": \"white\", \"ticks\": \"\"}}, \"title\": {\"x\": 0.05}, \"xaxis\": {\"automargin\": true, \"gridcolor\": \"white\", \"linecolor\": \"white\", \"ticks\": \"\", \"title\": {\"standoff\": 15}, \"zerolinecolor\": \"white\", \"zerolinewidth\": 2}, \"yaxis\": {\"automargin\": true, \"gridcolor\": \"white\", \"linecolor\": \"white\", \"ticks\": \"\", \"title\": {\"standoff\": 15}, \"zerolinecolor\": \"white\", \"zerolinewidth\": 2}}}, \"title\": {\"text\": \"Metric: MAE\"}, \"xaxis\": {\"type\": \"category\"}, \"yaxis\": {\"autorange\": true, \"gridcolor\": \"rgb(255,255,255)\", \"gridwidth\": 0.1, \"showgrid\": true, \"title\": {\"font\": {\"size\": 30}}, \"type\": \"log\", \"zeroline\": true, \"zerolinewidth\": 2}},\n",
       "                        {\"responsive\": true}\n",
       "                    ).then(function(){\n",
       "                            \n",
       "var gd = document.getElementById('f93d94f1-2c88-48f1-a93c-a65379b46e7b');\n",
       "var x = new MutationObserver(function (mutations, observer) {{\n",
       "        var display = window.getComputedStyle(gd).display;\n",
       "        if (!display || display === 'none') {{\n",
       "            console.log([gd, 'removed!']);\n",
       "            Plotly.purge(gd);\n",
       "            observer.disconnect();\n",
       "        }}\n",
       "}});\n",
       "\n",
       "// Listen for the removal of the full notebook cells\n",
       "var notebookContainer = gd.closest('#notebook-container');\n",
       "if (notebookContainer) {{\n",
       "    x.observe(notebookContainer, {childList: true});\n",
       "}}\n",
       "\n",
       "// Listen for the clearing of the current output cell\n",
       "var outputEl = gd.closest('.output');\n",
       "if (outputEl) {{\n",
       "    x.observe(outputEl, {childList: true});\n",
       "}}\n",
       "\n",
       "                        })\n",
       "                };\n",
       "                });\n",
       "            </script>\n",
       "        </div>"
      ]
     },
     "metadata": {},
     "output_type": "display_data"
    },
    {
     "data": {
      "application/vnd.plotly.v1+json": {
       "config": {
        "plotlyServerURL": "https://plot.ly"
       },
       "data": [
        {
         "boxpoints": "all",
         "fillcolor": "rgba(170,170,170,0.5)",
         "jitter": 0.7,
         "line": {
          "color": "rgba(0,0,255,0.5)",
          "width": 2
         },
         "marker": {
          "size": 2
         },
         "name": "CHROM",
         "type": "box",
         "y": [
          0.8949060844571889,
          0.1015370906290257,
          0.32798906251491733,
          0.3950954583497938,
          0.7450181621798462
         ]
        },
        {
         "boxpoints": "all",
         "fillcolor": "rgba(196,196,196,0.5)",
         "jitter": 0.7,
         "line": {
          "color": "rgba(0,0,255,0.5)",
          "width": 2
         },
         "marker": {
          "size": 2
         },
         "name": "GREEN",
         "type": "box",
         "y": [
          0.8943747349512773,
          0.26747729788368857,
          0.07840480628566097,
          -0.22454065473466883,
          0.49578023898306156
         ]
        },
        {
         "boxpoints": "all",
         "fillcolor": "rgba(179,179,179,0.5)",
         "jitter": 0.7,
         "line": {
          "color": "rgba(0,0,255,0.5)",
          "width": 2
         },
         "marker": {
          "size": 2
         },
         "name": "LGI",
         "type": "box",
         "y": [
          0.8824586591046235,
          0.3513888866342356,
          0.32179583907271886,
          0.30854415808443486,
          0.7356630293609705
         ]
        },
        {
         "boxpoints": "all",
         "fillcolor": "rgba(244,244,244,0.5)",
         "jitter": 0.7,
         "line": {
          "color": "rgba(0,0,255,0.5)",
          "width": 2
         },
         "marker": {
          "size": 2
         },
         "name": "MAP_3DCNN",
         "type": "box",
         "y": [
          0.03692663581090224,
          0.027610414756036622,
          -0.04399817765885562,
          -0.14685142039735943,
          0.0762805658966367
         ]
        },
        {
         "boxpoints": "all",
         "fillcolor": "rgba(203,203,203,0.5)",
         "jitter": 0.7,
         "line": {
          "color": "rgba(0,0,255,0.5)",
          "width": 2
         },
         "marker": {
          "size": 2
         },
         "name": "PBV",
         "type": "box",
         "y": [
          0.8822013411146482,
          0.23032946409044933,
          0.15474541545807668,
          0.015845229567360168,
          0.7677415626191014
         ]
        }
       ],
       "layout": {
        "font": {
         "color": "rgb(20,20,20)",
         "family": "monospace",
         "size": 16
        },
        "margin": {
         "b": 20,
         "l": 20,
         "r": 10,
         "t": 40
        },
        "paper_bgcolor": "rgb(250, 250, 250)",
        "plot_bgcolor": "rgb(243, 243, 243)",
        "showlegend": false,
        "template": {
         "data": {
          "bar": [
           {
            "error_x": {
             "color": "#2a3f5f"
            },
            "error_y": {
             "color": "#2a3f5f"
            },
            "marker": {
             "line": {
              "color": "#E5ECF6",
              "width": 0.5
             }
            },
            "type": "bar"
           }
          ],
          "barpolar": [
           {
            "marker": {
             "line": {
              "color": "#E5ECF6",
              "width": 0.5
             }
            },
            "type": "barpolar"
           }
          ],
          "carpet": [
           {
            "aaxis": {
             "endlinecolor": "#2a3f5f",
             "gridcolor": "white",
             "linecolor": "white",
             "minorgridcolor": "white",
             "startlinecolor": "#2a3f5f"
            },
            "baxis": {
             "endlinecolor": "#2a3f5f",
             "gridcolor": "white",
             "linecolor": "white",
             "minorgridcolor": "white",
             "startlinecolor": "#2a3f5f"
            },
            "type": "carpet"
           }
          ],
          "choropleth": [
           {
            "colorbar": {
             "outlinewidth": 0,
             "ticks": ""
            },
            "type": "choropleth"
           }
          ],
          "contour": [
           {
            "colorbar": {
             "outlinewidth": 0,
             "ticks": ""
            },
            "colorscale": [
             [
              0,
              "#0d0887"
             ],
             [
              0.1111111111111111,
              "#46039f"
             ],
             [
              0.2222222222222222,
              "#7201a8"
             ],
             [
              0.3333333333333333,
              "#9c179e"
             ],
             [
              0.4444444444444444,
              "#bd3786"
             ],
             [
              0.5555555555555556,
              "#d8576b"
             ],
             [
              0.6666666666666666,
              "#ed7953"
             ],
             [
              0.7777777777777778,
              "#fb9f3a"
             ],
             [
              0.8888888888888888,
              "#fdca26"
             ],
             [
              1,
              "#f0f921"
             ]
            ],
            "type": "contour"
           }
          ],
          "contourcarpet": [
           {
            "colorbar": {
             "outlinewidth": 0,
             "ticks": ""
            },
            "type": "contourcarpet"
           }
          ],
          "heatmap": [
           {
            "colorbar": {
             "outlinewidth": 0,
             "ticks": ""
            },
            "colorscale": [
             [
              0,
              "#0d0887"
             ],
             [
              0.1111111111111111,
              "#46039f"
             ],
             [
              0.2222222222222222,
              "#7201a8"
             ],
             [
              0.3333333333333333,
              "#9c179e"
             ],
             [
              0.4444444444444444,
              "#bd3786"
             ],
             [
              0.5555555555555556,
              "#d8576b"
             ],
             [
              0.6666666666666666,
              "#ed7953"
             ],
             [
              0.7777777777777778,
              "#fb9f3a"
             ],
             [
              0.8888888888888888,
              "#fdca26"
             ],
             [
              1,
              "#f0f921"
             ]
            ],
            "type": "heatmap"
           }
          ],
          "heatmapgl": [
           {
            "colorbar": {
             "outlinewidth": 0,
             "ticks": ""
            },
            "colorscale": [
             [
              0,
              "#0d0887"
             ],
             [
              0.1111111111111111,
              "#46039f"
             ],
             [
              0.2222222222222222,
              "#7201a8"
             ],
             [
              0.3333333333333333,
              "#9c179e"
             ],
             [
              0.4444444444444444,
              "#bd3786"
             ],
             [
              0.5555555555555556,
              "#d8576b"
             ],
             [
              0.6666666666666666,
              "#ed7953"
             ],
             [
              0.7777777777777778,
              "#fb9f3a"
             ],
             [
              0.8888888888888888,
              "#fdca26"
             ],
             [
              1,
              "#f0f921"
             ]
            ],
            "type": "heatmapgl"
           }
          ],
          "histogram": [
           {
            "marker": {
             "colorbar": {
              "outlinewidth": 0,
              "ticks": ""
             }
            },
            "type": "histogram"
           }
          ],
          "histogram2d": [
           {
            "colorbar": {
             "outlinewidth": 0,
             "ticks": ""
            },
            "colorscale": [
             [
              0,
              "#0d0887"
             ],
             [
              0.1111111111111111,
              "#46039f"
             ],
             [
              0.2222222222222222,
              "#7201a8"
             ],
             [
              0.3333333333333333,
              "#9c179e"
             ],
             [
              0.4444444444444444,
              "#bd3786"
             ],
             [
              0.5555555555555556,
              "#d8576b"
             ],
             [
              0.6666666666666666,
              "#ed7953"
             ],
             [
              0.7777777777777778,
              "#fb9f3a"
             ],
             [
              0.8888888888888888,
              "#fdca26"
             ],
             [
              1,
              "#f0f921"
             ]
            ],
            "type": "histogram2d"
           }
          ],
          "histogram2dcontour": [
           {
            "colorbar": {
             "outlinewidth": 0,
             "ticks": ""
            },
            "colorscale": [
             [
              0,
              "#0d0887"
             ],
             [
              0.1111111111111111,
              "#46039f"
             ],
             [
              0.2222222222222222,
              "#7201a8"
             ],
             [
              0.3333333333333333,
              "#9c179e"
             ],
             [
              0.4444444444444444,
              "#bd3786"
             ],
             [
              0.5555555555555556,
              "#d8576b"
             ],
             [
              0.6666666666666666,
              "#ed7953"
             ],
             [
              0.7777777777777778,
              "#fb9f3a"
             ],
             [
              0.8888888888888888,
              "#fdca26"
             ],
             [
              1,
              "#f0f921"
             ]
            ],
            "type": "histogram2dcontour"
           }
          ],
          "mesh3d": [
           {
            "colorbar": {
             "outlinewidth": 0,
             "ticks": ""
            },
            "type": "mesh3d"
           }
          ],
          "parcoords": [
           {
            "line": {
             "colorbar": {
              "outlinewidth": 0,
              "ticks": ""
             }
            },
            "type": "parcoords"
           }
          ],
          "pie": [
           {
            "automargin": true,
            "type": "pie"
           }
          ],
          "scatter": [
           {
            "marker": {
             "colorbar": {
              "outlinewidth": 0,
              "ticks": ""
             }
            },
            "type": "scatter"
           }
          ],
          "scatter3d": [
           {
            "line": {
             "colorbar": {
              "outlinewidth": 0,
              "ticks": ""
             }
            },
            "marker": {
             "colorbar": {
              "outlinewidth": 0,
              "ticks": ""
             }
            },
            "type": "scatter3d"
           }
          ],
          "scattercarpet": [
           {
            "marker": {
             "colorbar": {
              "outlinewidth": 0,
              "ticks": ""
             }
            },
            "type": "scattercarpet"
           }
          ],
          "scattergeo": [
           {
            "marker": {
             "colorbar": {
              "outlinewidth": 0,
              "ticks": ""
             }
            },
            "type": "scattergeo"
           }
          ],
          "scattergl": [
           {
            "marker": {
             "colorbar": {
              "outlinewidth": 0,
              "ticks": ""
             }
            },
            "type": "scattergl"
           }
          ],
          "scattermapbox": [
           {
            "marker": {
             "colorbar": {
              "outlinewidth": 0,
              "ticks": ""
             }
            },
            "type": "scattermapbox"
           }
          ],
          "scatterpolar": [
           {
            "marker": {
             "colorbar": {
              "outlinewidth": 0,
              "ticks": ""
             }
            },
            "type": "scatterpolar"
           }
          ],
          "scatterpolargl": [
           {
            "marker": {
             "colorbar": {
              "outlinewidth": 0,
              "ticks": ""
             }
            },
            "type": "scatterpolargl"
           }
          ],
          "scatterternary": [
           {
            "marker": {
             "colorbar": {
              "outlinewidth": 0,
              "ticks": ""
             }
            },
            "type": "scatterternary"
           }
          ],
          "surface": [
           {
            "colorbar": {
             "outlinewidth": 0,
             "ticks": ""
            },
            "colorscale": [
             [
              0,
              "#0d0887"
             ],
             [
              0.1111111111111111,
              "#46039f"
             ],
             [
              0.2222222222222222,
              "#7201a8"
             ],
             [
              0.3333333333333333,
              "#9c179e"
             ],
             [
              0.4444444444444444,
              "#bd3786"
             ],
             [
              0.5555555555555556,
              "#d8576b"
             ],
             [
              0.6666666666666666,
              "#ed7953"
             ],
             [
              0.7777777777777778,
              "#fb9f3a"
             ],
             [
              0.8888888888888888,
              "#fdca26"
             ],
             [
              1,
              "#f0f921"
             ]
            ],
            "type": "surface"
           }
          ],
          "table": [
           {
            "cells": {
             "fill": {
              "color": "#EBF0F8"
             },
             "line": {
              "color": "white"
             }
            },
            "header": {
             "fill": {
              "color": "#C8D4E3"
             },
             "line": {
              "color": "white"
             }
            },
            "type": "table"
           }
          ]
         },
         "layout": {
          "annotationdefaults": {
           "arrowcolor": "#2a3f5f",
           "arrowhead": 0,
           "arrowwidth": 1
          },
          "coloraxis": {
           "colorbar": {
            "outlinewidth": 0,
            "ticks": ""
           }
          },
          "colorscale": {
           "diverging": [
            [
             0,
             "#8e0152"
            ],
            [
             0.1,
             "#c51b7d"
            ],
            [
             0.2,
             "#de77ae"
            ],
            [
             0.3,
             "#f1b6da"
            ],
            [
             0.4,
             "#fde0ef"
            ],
            [
             0.5,
             "#f7f7f7"
            ],
            [
             0.6,
             "#e6f5d0"
            ],
            [
             0.7,
             "#b8e186"
            ],
            [
             0.8,
             "#7fbc41"
            ],
            [
             0.9,
             "#4d9221"
            ],
            [
             1,
             "#276419"
            ]
           ],
           "sequential": [
            [
             0,
             "#0d0887"
            ],
            [
             0.1111111111111111,
             "#46039f"
            ],
            [
             0.2222222222222222,
             "#7201a8"
            ],
            [
             0.3333333333333333,
             "#9c179e"
            ],
            [
             0.4444444444444444,
             "#bd3786"
            ],
            [
             0.5555555555555556,
             "#d8576b"
            ],
            [
             0.6666666666666666,
             "#ed7953"
            ],
            [
             0.7777777777777778,
             "#fb9f3a"
            ],
            [
             0.8888888888888888,
             "#fdca26"
            ],
            [
             1,
             "#f0f921"
            ]
           ],
           "sequentialminus": [
            [
             0,
             "#0d0887"
            ],
            [
             0.1111111111111111,
             "#46039f"
            ],
            [
             0.2222222222222222,
             "#7201a8"
            ],
            [
             0.3333333333333333,
             "#9c179e"
            ],
            [
             0.4444444444444444,
             "#bd3786"
            ],
            [
             0.5555555555555556,
             "#d8576b"
            ],
            [
             0.6666666666666666,
             "#ed7953"
            ],
            [
             0.7777777777777778,
             "#fb9f3a"
            ],
            [
             0.8888888888888888,
             "#fdca26"
            ],
            [
             1,
             "#f0f921"
            ]
           ]
          },
          "colorway": [
           "#636efa",
           "#EF553B",
           "#00cc96",
           "#ab63fa",
           "#FFA15A",
           "#19d3f3",
           "#FF6692",
           "#B6E880",
           "#FF97FF",
           "#FECB52"
          ],
          "font": {
           "color": "#2a3f5f"
          },
          "geo": {
           "bgcolor": "white",
           "lakecolor": "white",
           "landcolor": "#E5ECF6",
           "showlakes": true,
           "showland": true,
           "subunitcolor": "white"
          },
          "hoverlabel": {
           "align": "left"
          },
          "hovermode": "closest",
          "mapbox": {
           "style": "light"
          },
          "paper_bgcolor": "white",
          "plot_bgcolor": "#E5ECF6",
          "polar": {
           "angularaxis": {
            "gridcolor": "white",
            "linecolor": "white",
            "ticks": ""
           },
           "bgcolor": "#E5ECF6",
           "radialaxis": {
            "gridcolor": "white",
            "linecolor": "white",
            "ticks": ""
           }
          },
          "scene": {
           "xaxis": {
            "backgroundcolor": "#E5ECF6",
            "gridcolor": "white",
            "gridwidth": 2,
            "linecolor": "white",
            "showbackground": true,
            "ticks": "",
            "zerolinecolor": "white"
           },
           "yaxis": {
            "backgroundcolor": "#E5ECF6",
            "gridcolor": "white",
            "gridwidth": 2,
            "linecolor": "white",
            "showbackground": true,
            "ticks": "",
            "zerolinecolor": "white"
           },
           "zaxis": {
            "backgroundcolor": "#E5ECF6",
            "gridcolor": "white",
            "gridwidth": 2,
            "linecolor": "white",
            "showbackground": true,
            "ticks": "",
            "zerolinecolor": "white"
           }
          },
          "shapedefaults": {
           "line": {
            "color": "#2a3f5f"
           }
          },
          "ternary": {
           "aaxis": {
            "gridcolor": "white",
            "linecolor": "white",
            "ticks": ""
           },
           "baxis": {
            "gridcolor": "white",
            "linecolor": "white",
            "ticks": ""
           },
           "bgcolor": "#E5ECF6",
           "caxis": {
            "gridcolor": "white",
            "linecolor": "white",
            "ticks": ""
           }
          },
          "title": {
           "x": 0.05
          },
          "xaxis": {
           "automargin": true,
           "gridcolor": "white",
           "linecolor": "white",
           "ticks": "",
           "title": {
            "standoff": 15
           },
           "zerolinecolor": "white",
           "zerolinewidth": 2
          },
          "yaxis": {
           "automargin": true,
           "gridcolor": "white",
           "linecolor": "white",
           "ticks": "",
           "title": {
            "standoff": 15
           },
           "zerolinecolor": "white",
           "zerolinewidth": 2
          }
         }
        },
        "title": {
         "text": "Metric: PCC"
        },
        "xaxis": {
         "type": "category"
        },
        "yaxis": {
         "autorange": true,
         "gridcolor": "rgb(255,255,255)",
         "gridwidth": 0.1,
         "showgrid": true,
         "title": {
          "font": {
           "size": 30
          }
         },
         "type": "linear",
         "zeroline": true,
         "zerolinewidth": 2
        }
       }
      },
      "text/html": [
       "<div>\n",
       "        \n",
       "        \n",
       "            <div id=\"6cc070e6-832a-49a7-8728-e01f9ae8775b\" class=\"plotly-graph-div\" style=\"height:525px; width:100%;\"></div>\n",
       "            <script type=\"text/javascript\">\n",
       "                require([\"plotly\"], function(Plotly) {\n",
       "                    window.PLOTLYENV=window.PLOTLYENV || {};\n",
       "                    \n",
       "                if (document.getElementById(\"6cc070e6-832a-49a7-8728-e01f9ae8775b\")) {\n",
       "                    Plotly.newPlot(\n",
       "                        '6cc070e6-832a-49a7-8728-e01f9ae8775b',\n",
       "                        [{\"boxpoints\": \"all\", \"fillcolor\": \"rgba(170,170,170,0.5)\", \"jitter\": 0.7, \"line\": {\"color\": \"rgba(0,0,255,0.5)\", \"width\": 2}, \"marker\": {\"size\": 2}, \"name\": \"CHROM\", \"type\": \"box\", \"y\": [0.8949060844571889, 0.1015370906290257, 0.32798906251491733, 0.3950954583497938, 0.7450181621798462]}, {\"boxpoints\": \"all\", \"fillcolor\": \"rgba(196,196,196,0.5)\", \"jitter\": 0.7, \"line\": {\"color\": \"rgba(0,0,255,0.5)\", \"width\": 2}, \"marker\": {\"size\": 2}, \"name\": \"GREEN\", \"type\": \"box\", \"y\": [0.8943747349512773, 0.26747729788368857, 0.07840480628566097, -0.22454065473466883, 0.49578023898306156]}, {\"boxpoints\": \"all\", \"fillcolor\": \"rgba(179,179,179,0.5)\", \"jitter\": 0.7, \"line\": {\"color\": \"rgba(0,0,255,0.5)\", \"width\": 2}, \"marker\": {\"size\": 2}, \"name\": \"LGI\", \"type\": \"box\", \"y\": [0.8824586591046235, 0.3513888866342356, 0.32179583907271886, 0.30854415808443486, 0.7356630293609705]}, {\"boxpoints\": \"all\", \"fillcolor\": \"rgba(244,244,244,0.5)\", \"jitter\": 0.7, \"line\": {\"color\": \"rgba(0,0,255,0.5)\", \"width\": 2}, \"marker\": {\"size\": 2}, \"name\": \"MAP_3DCNN\", \"type\": \"box\", \"y\": [0.03692663581090224, 0.027610414756036622, -0.04399817765885562, -0.14685142039735943, 0.0762805658966367]}, {\"boxpoints\": \"all\", \"fillcolor\": \"rgba(203,203,203,0.5)\", \"jitter\": 0.7, \"line\": {\"color\": \"rgba(0,0,255,0.5)\", \"width\": 2}, \"marker\": {\"size\": 2}, \"name\": \"PBV\", \"type\": \"box\", \"y\": [0.8822013411146482, 0.23032946409044933, 0.15474541545807668, 0.015845229567360168, 0.7677415626191014]}],\n",
       "                        {\"font\": {\"color\": \"rgb(20,20,20)\", \"family\": \"monospace\", \"size\": 16}, \"margin\": {\"b\": 20, \"l\": 20, \"r\": 10, \"t\": 40}, \"paper_bgcolor\": \"rgb(250, 250, 250)\", \"plot_bgcolor\": \"rgb(243, 243, 243)\", \"showlegend\": false, \"template\": {\"data\": {\"bar\": [{\"error_x\": {\"color\": \"#2a3f5f\"}, \"error_y\": {\"color\": \"#2a3f5f\"}, \"marker\": {\"line\": {\"color\": \"#E5ECF6\", \"width\": 0.5}}, \"type\": \"bar\"}], \"barpolar\": [{\"marker\": {\"line\": {\"color\": \"#E5ECF6\", \"width\": 0.5}}, \"type\": \"barpolar\"}], \"carpet\": [{\"aaxis\": {\"endlinecolor\": \"#2a3f5f\", \"gridcolor\": \"white\", \"linecolor\": \"white\", \"minorgridcolor\": \"white\", \"startlinecolor\": \"#2a3f5f\"}, \"baxis\": {\"endlinecolor\": \"#2a3f5f\", \"gridcolor\": \"white\", \"linecolor\": \"white\", \"minorgridcolor\": \"white\", \"startlinecolor\": \"#2a3f5f\"}, \"type\": \"carpet\"}], \"choropleth\": [{\"colorbar\": {\"outlinewidth\": 0, \"ticks\": \"\"}, \"type\": \"choropleth\"}], \"contour\": [{\"colorbar\": {\"outlinewidth\": 0, \"ticks\": \"\"}, \"colorscale\": [[0.0, \"#0d0887\"], [0.1111111111111111, \"#46039f\"], [0.2222222222222222, \"#7201a8\"], [0.3333333333333333, \"#9c179e\"], [0.4444444444444444, \"#bd3786\"], [0.5555555555555556, \"#d8576b\"], [0.6666666666666666, \"#ed7953\"], [0.7777777777777778, \"#fb9f3a\"], [0.8888888888888888, \"#fdca26\"], [1.0, \"#f0f921\"]], \"type\": \"contour\"}], \"contourcarpet\": [{\"colorbar\": {\"outlinewidth\": 0, \"ticks\": \"\"}, \"type\": \"contourcarpet\"}], \"heatmap\": [{\"colorbar\": {\"outlinewidth\": 0, \"ticks\": \"\"}, \"colorscale\": [[0.0, \"#0d0887\"], [0.1111111111111111, \"#46039f\"], [0.2222222222222222, \"#7201a8\"], [0.3333333333333333, \"#9c179e\"], [0.4444444444444444, \"#bd3786\"], [0.5555555555555556, \"#d8576b\"], [0.6666666666666666, \"#ed7953\"], [0.7777777777777778, \"#fb9f3a\"], [0.8888888888888888, \"#fdca26\"], [1.0, \"#f0f921\"]], \"type\": \"heatmap\"}], \"heatmapgl\": [{\"colorbar\": {\"outlinewidth\": 0, \"ticks\": \"\"}, \"colorscale\": [[0.0, \"#0d0887\"], [0.1111111111111111, \"#46039f\"], [0.2222222222222222, \"#7201a8\"], [0.3333333333333333, \"#9c179e\"], [0.4444444444444444, \"#bd3786\"], [0.5555555555555556, \"#d8576b\"], [0.6666666666666666, \"#ed7953\"], [0.7777777777777778, \"#fb9f3a\"], [0.8888888888888888, \"#fdca26\"], [1.0, \"#f0f921\"]], \"type\": \"heatmapgl\"}], \"histogram\": [{\"marker\": {\"colorbar\": {\"outlinewidth\": 0, \"ticks\": \"\"}}, \"type\": \"histogram\"}], \"histogram2d\": [{\"colorbar\": {\"outlinewidth\": 0, \"ticks\": \"\"}, \"colorscale\": [[0.0, \"#0d0887\"], [0.1111111111111111, \"#46039f\"], [0.2222222222222222, \"#7201a8\"], [0.3333333333333333, \"#9c179e\"], [0.4444444444444444, \"#bd3786\"], [0.5555555555555556, \"#d8576b\"], [0.6666666666666666, \"#ed7953\"], [0.7777777777777778, \"#fb9f3a\"], [0.8888888888888888, \"#fdca26\"], [1.0, \"#f0f921\"]], \"type\": \"histogram2d\"}], \"histogram2dcontour\": [{\"colorbar\": {\"outlinewidth\": 0, \"ticks\": \"\"}, \"colorscale\": [[0.0, \"#0d0887\"], [0.1111111111111111, \"#46039f\"], [0.2222222222222222, \"#7201a8\"], [0.3333333333333333, \"#9c179e\"], [0.4444444444444444, \"#bd3786\"], [0.5555555555555556, \"#d8576b\"], [0.6666666666666666, \"#ed7953\"], [0.7777777777777778, \"#fb9f3a\"], [0.8888888888888888, \"#fdca26\"], [1.0, \"#f0f921\"]], \"type\": \"histogram2dcontour\"}], \"mesh3d\": [{\"colorbar\": {\"outlinewidth\": 0, \"ticks\": \"\"}, \"type\": \"mesh3d\"}], \"parcoords\": [{\"line\": {\"colorbar\": {\"outlinewidth\": 0, \"ticks\": \"\"}}, \"type\": \"parcoords\"}], \"pie\": [{\"automargin\": true, \"type\": \"pie\"}], \"scatter\": [{\"marker\": {\"colorbar\": {\"outlinewidth\": 0, \"ticks\": \"\"}}, \"type\": \"scatter\"}], \"scatter3d\": [{\"line\": {\"colorbar\": {\"outlinewidth\": 0, \"ticks\": \"\"}}, \"marker\": {\"colorbar\": {\"outlinewidth\": 0, \"ticks\": \"\"}}, \"type\": \"scatter3d\"}], \"scattercarpet\": [{\"marker\": {\"colorbar\": {\"outlinewidth\": 0, \"ticks\": \"\"}}, \"type\": \"scattercarpet\"}], \"scattergeo\": [{\"marker\": {\"colorbar\": {\"outlinewidth\": 0, \"ticks\": \"\"}}, \"type\": \"scattergeo\"}], \"scattergl\": [{\"marker\": {\"colorbar\": {\"outlinewidth\": 0, \"ticks\": \"\"}}, \"type\": \"scattergl\"}], \"scattermapbox\": [{\"marker\": {\"colorbar\": {\"outlinewidth\": 0, \"ticks\": \"\"}}, \"type\": \"scattermapbox\"}], \"scatterpolar\": [{\"marker\": {\"colorbar\": {\"outlinewidth\": 0, \"ticks\": \"\"}}, \"type\": \"scatterpolar\"}], \"scatterpolargl\": [{\"marker\": {\"colorbar\": {\"outlinewidth\": 0, \"ticks\": \"\"}}, \"type\": \"scatterpolargl\"}], \"scatterternary\": [{\"marker\": {\"colorbar\": {\"outlinewidth\": 0, \"ticks\": \"\"}}, \"type\": \"scatterternary\"}], \"surface\": [{\"colorbar\": {\"outlinewidth\": 0, \"ticks\": \"\"}, \"colorscale\": [[0.0, \"#0d0887\"], [0.1111111111111111, \"#46039f\"], [0.2222222222222222, \"#7201a8\"], [0.3333333333333333, \"#9c179e\"], [0.4444444444444444, \"#bd3786\"], [0.5555555555555556, \"#d8576b\"], [0.6666666666666666, \"#ed7953\"], [0.7777777777777778, \"#fb9f3a\"], [0.8888888888888888, \"#fdca26\"], [1.0, \"#f0f921\"]], \"type\": \"surface\"}], \"table\": [{\"cells\": {\"fill\": {\"color\": \"#EBF0F8\"}, \"line\": {\"color\": \"white\"}}, \"header\": {\"fill\": {\"color\": \"#C8D4E3\"}, \"line\": {\"color\": \"white\"}}, \"type\": \"table\"}]}, \"layout\": {\"annotationdefaults\": {\"arrowcolor\": \"#2a3f5f\", \"arrowhead\": 0, \"arrowwidth\": 1}, \"coloraxis\": {\"colorbar\": {\"outlinewidth\": 0, \"ticks\": \"\"}}, \"colorscale\": {\"diverging\": [[0, \"#8e0152\"], [0.1, \"#c51b7d\"], [0.2, \"#de77ae\"], [0.3, \"#f1b6da\"], [0.4, \"#fde0ef\"], [0.5, \"#f7f7f7\"], [0.6, \"#e6f5d0\"], [0.7, \"#b8e186\"], [0.8, \"#7fbc41\"], [0.9, \"#4d9221\"], [1, \"#276419\"]], \"sequential\": [[0.0, \"#0d0887\"], [0.1111111111111111, \"#46039f\"], [0.2222222222222222, \"#7201a8\"], [0.3333333333333333, \"#9c179e\"], [0.4444444444444444, \"#bd3786\"], [0.5555555555555556, \"#d8576b\"], [0.6666666666666666, \"#ed7953\"], [0.7777777777777778, \"#fb9f3a\"], [0.8888888888888888, \"#fdca26\"], [1.0, \"#f0f921\"]], \"sequentialminus\": [[0.0, \"#0d0887\"], [0.1111111111111111, \"#46039f\"], [0.2222222222222222, \"#7201a8\"], [0.3333333333333333, \"#9c179e\"], [0.4444444444444444, \"#bd3786\"], [0.5555555555555556, \"#d8576b\"], [0.6666666666666666, \"#ed7953\"], [0.7777777777777778, \"#fb9f3a\"], [0.8888888888888888, \"#fdca26\"], [1.0, \"#f0f921\"]]}, \"colorway\": [\"#636efa\", \"#EF553B\", \"#00cc96\", \"#ab63fa\", \"#FFA15A\", \"#19d3f3\", \"#FF6692\", \"#B6E880\", \"#FF97FF\", \"#FECB52\"], \"font\": {\"color\": \"#2a3f5f\"}, \"geo\": {\"bgcolor\": \"white\", \"lakecolor\": \"white\", \"landcolor\": \"#E5ECF6\", \"showlakes\": true, \"showland\": true, \"subunitcolor\": \"white\"}, \"hoverlabel\": {\"align\": \"left\"}, \"hovermode\": \"closest\", \"mapbox\": {\"style\": \"light\"}, \"paper_bgcolor\": \"white\", \"plot_bgcolor\": \"#E5ECF6\", \"polar\": {\"angularaxis\": {\"gridcolor\": \"white\", \"linecolor\": \"white\", \"ticks\": \"\"}, \"bgcolor\": \"#E5ECF6\", \"radialaxis\": {\"gridcolor\": \"white\", \"linecolor\": \"white\", \"ticks\": \"\"}}, \"scene\": {\"xaxis\": {\"backgroundcolor\": \"#E5ECF6\", \"gridcolor\": \"white\", \"gridwidth\": 2, \"linecolor\": \"white\", \"showbackground\": true, \"ticks\": \"\", \"zerolinecolor\": \"white\"}, \"yaxis\": {\"backgroundcolor\": \"#E5ECF6\", \"gridcolor\": \"white\", \"gridwidth\": 2, \"linecolor\": \"white\", \"showbackground\": true, \"ticks\": \"\", \"zerolinecolor\": \"white\"}, \"zaxis\": {\"backgroundcolor\": \"#E5ECF6\", \"gridcolor\": \"white\", \"gridwidth\": 2, \"linecolor\": \"white\", \"showbackground\": true, \"ticks\": \"\", \"zerolinecolor\": \"white\"}}, \"shapedefaults\": {\"line\": {\"color\": \"#2a3f5f\"}}, \"ternary\": {\"aaxis\": {\"gridcolor\": \"white\", \"linecolor\": \"white\", \"ticks\": \"\"}, \"baxis\": {\"gridcolor\": \"white\", \"linecolor\": \"white\", \"ticks\": \"\"}, \"bgcolor\": \"#E5ECF6\", \"caxis\": {\"gridcolor\": \"white\", \"linecolor\": \"white\", \"ticks\": \"\"}}, \"title\": {\"x\": 0.05}, \"xaxis\": {\"automargin\": true, \"gridcolor\": \"white\", \"linecolor\": \"white\", \"ticks\": \"\", \"title\": {\"standoff\": 15}, \"zerolinecolor\": \"white\", \"zerolinewidth\": 2}, \"yaxis\": {\"automargin\": true, \"gridcolor\": \"white\", \"linecolor\": \"white\", \"ticks\": \"\", \"title\": {\"standoff\": 15}, \"zerolinecolor\": \"white\", \"zerolinewidth\": 2}}}, \"title\": {\"text\": \"Metric: PCC\"}, \"xaxis\": {\"type\": \"category\"}, \"yaxis\": {\"autorange\": true, \"gridcolor\": \"rgb(255,255,255)\", \"gridwidth\": 0.1, \"showgrid\": true, \"title\": {\"font\": {\"size\": 30}}, \"type\": \"linear\", \"zeroline\": true, \"zerolinewidth\": 2}},\n",
       "                        {\"responsive\": true}\n",
       "                    ).then(function(){\n",
       "                            \n",
       "var gd = document.getElementById('6cc070e6-832a-49a7-8728-e01f9ae8775b');\n",
       "var x = new MutationObserver(function (mutations, observer) {{\n",
       "        var display = window.getComputedStyle(gd).display;\n",
       "        if (!display || display === 'none') {{\n",
       "            console.log([gd, 'removed!']);\n",
       "            Plotly.purge(gd);\n",
       "            observer.disconnect();\n",
       "        }}\n",
       "}});\n",
       "\n",
       "// Listen for the removal of the full notebook cells\n",
       "var notebookContainer = gd.closest('#notebook-container');\n",
       "if (notebookContainer) {{\n",
       "    x.observe(notebookContainer, {childList: true});\n",
       "}}\n",
       "\n",
       "// Listen for the clearing of the current output cell\n",
       "var outputEl = gd.closest('.output');\n",
       "if (outputEl) {{\n",
       "    x.observe(outputEl, {childList: true});\n",
       "}}\n",
       "\n",
       "                        })\n",
       "                };\n",
       "                });\n",
       "            </script>\n",
       "        </div>"
      ]
     },
     "metadata": {},
     "output_type": "display_data"
    },
    {
     "data": {
      "application/vnd.plotly.v1+json": {
       "config": {
        "plotlyServerURL": "https://plot.ly"
       },
       "data": [
        {
         "boxpoints": "all",
         "fillcolor": "rgba(115,115,115,0.5)",
         "jitter": 0.7,
         "line": {
          "color": "rgba(0,0,255,0.5)",
          "width": 2
         },
         "marker": {
          "size": 2
         },
         "name": "CHROM",
         "type": "box",
         "y": [
          3.6589638613683975,
          34.61971124920112,
          13.680237435273767,
          6.971295465532019,
          18.179160317072128
         ]
        },
        {
         "boxpoints": "all",
         "fillcolor": "rgba(200,200,200,0.5)",
         "jitter": 0.7,
         "line": {
          "color": "rgba(0,0,255,0.5)",
          "width": 2
         },
         "marker": {
          "size": 2
         },
         "name": "GREEN",
         "type": "box",
         "y": [
          3.649646393070433,
          36.17861168595144,
          51.920845698180884,
          46.513580617823436,
          32.893839078139415
         ]
        },
        {
         "boxpoints": "all",
         "fillcolor": "rgba(125,125,125,0.5)",
         "jitter": 0.7,
         "line": {
          "color": "rgba(0,0,255,0.5)",
          "width": 2
         },
         "marker": {
          "size": 2
         },
         "name": "LGI",
         "type": "box",
         "y": [
          3.8423418607182525,
          21.760379456879985,
          15.139215585131398,
          9.260103518229023,
          20.90390468738732
         ]
        },
        {
         "boxpoints": "all",
         "fillcolor": "rgba(150,150,150,0.5)",
         "jitter": 0.7,
         "line": {
          "color": "rgba(0,0,255,0.5)",
          "width": 2
         },
         "marker": {
          "size": 2
         },
         "name": "MAP_3DCNN",
         "type": "box",
         "y": [
          20.436635897465017,
          31.09354375761837,
          12.272775598017363,
          5.91705218319703,
          24.76510813528613
         ]
        },
        {
         "boxpoints": "all",
         "fillcolor": "rgba(200,200,200,0.5)",
         "jitter": 0.7,
         "line": {
          "color": "rgba(0,0,255,0.5)",
          "width": 2
         },
         "marker": {
          "size": 2
         },
         "name": "PBV",
         "type": "box",
         "y": [
          3.792392860224199,
          37.897759329124334,
          42.20741274322028,
          52.94223821200445,
          20.13929953362655
         ]
        }
       ],
       "layout": {
        "font": {
         "color": "rgb(20,20,20)",
         "family": "monospace",
         "size": 16
        },
        "margin": {
         "b": 20,
         "l": 20,
         "r": 10,
         "t": 40
        },
        "paper_bgcolor": "rgb(250, 250, 250)",
        "plot_bgcolor": "rgb(243, 243, 243)",
        "showlegend": false,
        "template": {
         "data": {
          "bar": [
           {
            "error_x": {
             "color": "#2a3f5f"
            },
            "error_y": {
             "color": "#2a3f5f"
            },
            "marker": {
             "line": {
              "color": "#E5ECF6",
              "width": 0.5
             }
            },
            "type": "bar"
           }
          ],
          "barpolar": [
           {
            "marker": {
             "line": {
              "color": "#E5ECF6",
              "width": 0.5
             }
            },
            "type": "barpolar"
           }
          ],
          "carpet": [
           {
            "aaxis": {
             "endlinecolor": "#2a3f5f",
             "gridcolor": "white",
             "linecolor": "white",
             "minorgridcolor": "white",
             "startlinecolor": "#2a3f5f"
            },
            "baxis": {
             "endlinecolor": "#2a3f5f",
             "gridcolor": "white",
             "linecolor": "white",
             "minorgridcolor": "white",
             "startlinecolor": "#2a3f5f"
            },
            "type": "carpet"
           }
          ],
          "choropleth": [
           {
            "colorbar": {
             "outlinewidth": 0,
             "ticks": ""
            },
            "type": "choropleth"
           }
          ],
          "contour": [
           {
            "colorbar": {
             "outlinewidth": 0,
             "ticks": ""
            },
            "colorscale": [
             [
              0,
              "#0d0887"
             ],
             [
              0.1111111111111111,
              "#46039f"
             ],
             [
              0.2222222222222222,
              "#7201a8"
             ],
             [
              0.3333333333333333,
              "#9c179e"
             ],
             [
              0.4444444444444444,
              "#bd3786"
             ],
             [
              0.5555555555555556,
              "#d8576b"
             ],
             [
              0.6666666666666666,
              "#ed7953"
             ],
             [
              0.7777777777777778,
              "#fb9f3a"
             ],
             [
              0.8888888888888888,
              "#fdca26"
             ],
             [
              1,
              "#f0f921"
             ]
            ],
            "type": "contour"
           }
          ],
          "contourcarpet": [
           {
            "colorbar": {
             "outlinewidth": 0,
             "ticks": ""
            },
            "type": "contourcarpet"
           }
          ],
          "heatmap": [
           {
            "colorbar": {
             "outlinewidth": 0,
             "ticks": ""
            },
            "colorscale": [
             [
              0,
              "#0d0887"
             ],
             [
              0.1111111111111111,
              "#46039f"
             ],
             [
              0.2222222222222222,
              "#7201a8"
             ],
             [
              0.3333333333333333,
              "#9c179e"
             ],
             [
              0.4444444444444444,
              "#bd3786"
             ],
             [
              0.5555555555555556,
              "#d8576b"
             ],
             [
              0.6666666666666666,
              "#ed7953"
             ],
             [
              0.7777777777777778,
              "#fb9f3a"
             ],
             [
              0.8888888888888888,
              "#fdca26"
             ],
             [
              1,
              "#f0f921"
             ]
            ],
            "type": "heatmap"
           }
          ],
          "heatmapgl": [
           {
            "colorbar": {
             "outlinewidth": 0,
             "ticks": ""
            },
            "colorscale": [
             [
              0,
              "#0d0887"
             ],
             [
              0.1111111111111111,
              "#46039f"
             ],
             [
              0.2222222222222222,
              "#7201a8"
             ],
             [
              0.3333333333333333,
              "#9c179e"
             ],
             [
              0.4444444444444444,
              "#bd3786"
             ],
             [
              0.5555555555555556,
              "#d8576b"
             ],
             [
              0.6666666666666666,
              "#ed7953"
             ],
             [
              0.7777777777777778,
              "#fb9f3a"
             ],
             [
              0.8888888888888888,
              "#fdca26"
             ],
             [
              1,
              "#f0f921"
             ]
            ],
            "type": "heatmapgl"
           }
          ],
          "histogram": [
           {
            "marker": {
             "colorbar": {
              "outlinewidth": 0,
              "ticks": ""
             }
            },
            "type": "histogram"
           }
          ],
          "histogram2d": [
           {
            "colorbar": {
             "outlinewidth": 0,
             "ticks": ""
            },
            "colorscale": [
             [
              0,
              "#0d0887"
             ],
             [
              0.1111111111111111,
              "#46039f"
             ],
             [
              0.2222222222222222,
              "#7201a8"
             ],
             [
              0.3333333333333333,
              "#9c179e"
             ],
             [
              0.4444444444444444,
              "#bd3786"
             ],
             [
              0.5555555555555556,
              "#d8576b"
             ],
             [
              0.6666666666666666,
              "#ed7953"
             ],
             [
              0.7777777777777778,
              "#fb9f3a"
             ],
             [
              0.8888888888888888,
              "#fdca26"
             ],
             [
              1,
              "#f0f921"
             ]
            ],
            "type": "histogram2d"
           }
          ],
          "histogram2dcontour": [
           {
            "colorbar": {
             "outlinewidth": 0,
             "ticks": ""
            },
            "colorscale": [
             [
              0,
              "#0d0887"
             ],
             [
              0.1111111111111111,
              "#46039f"
             ],
             [
              0.2222222222222222,
              "#7201a8"
             ],
             [
              0.3333333333333333,
              "#9c179e"
             ],
             [
              0.4444444444444444,
              "#bd3786"
             ],
             [
              0.5555555555555556,
              "#d8576b"
             ],
             [
              0.6666666666666666,
              "#ed7953"
             ],
             [
              0.7777777777777778,
              "#fb9f3a"
             ],
             [
              0.8888888888888888,
              "#fdca26"
             ],
             [
              1,
              "#f0f921"
             ]
            ],
            "type": "histogram2dcontour"
           }
          ],
          "mesh3d": [
           {
            "colorbar": {
             "outlinewidth": 0,
             "ticks": ""
            },
            "type": "mesh3d"
           }
          ],
          "parcoords": [
           {
            "line": {
             "colorbar": {
              "outlinewidth": 0,
              "ticks": ""
             }
            },
            "type": "parcoords"
           }
          ],
          "pie": [
           {
            "automargin": true,
            "type": "pie"
           }
          ],
          "scatter": [
           {
            "marker": {
             "colorbar": {
              "outlinewidth": 0,
              "ticks": ""
             }
            },
            "type": "scatter"
           }
          ],
          "scatter3d": [
           {
            "line": {
             "colorbar": {
              "outlinewidth": 0,
              "ticks": ""
             }
            },
            "marker": {
             "colorbar": {
              "outlinewidth": 0,
              "ticks": ""
             }
            },
            "type": "scatter3d"
           }
          ],
          "scattercarpet": [
           {
            "marker": {
             "colorbar": {
              "outlinewidth": 0,
              "ticks": ""
             }
            },
            "type": "scattercarpet"
           }
          ],
          "scattergeo": [
           {
            "marker": {
             "colorbar": {
              "outlinewidth": 0,
              "ticks": ""
             }
            },
            "type": "scattergeo"
           }
          ],
          "scattergl": [
           {
            "marker": {
             "colorbar": {
              "outlinewidth": 0,
              "ticks": ""
             }
            },
            "type": "scattergl"
           }
          ],
          "scattermapbox": [
           {
            "marker": {
             "colorbar": {
              "outlinewidth": 0,
              "ticks": ""
             }
            },
            "type": "scattermapbox"
           }
          ],
          "scatterpolar": [
           {
            "marker": {
             "colorbar": {
              "outlinewidth": 0,
              "ticks": ""
             }
            },
            "type": "scatterpolar"
           }
          ],
          "scatterpolargl": [
           {
            "marker": {
             "colorbar": {
              "outlinewidth": 0,
              "ticks": ""
             }
            },
            "type": "scatterpolargl"
           }
          ],
          "scatterternary": [
           {
            "marker": {
             "colorbar": {
              "outlinewidth": 0,
              "ticks": ""
             }
            },
            "type": "scatterternary"
           }
          ],
          "surface": [
           {
            "colorbar": {
             "outlinewidth": 0,
             "ticks": ""
            },
            "colorscale": [
             [
              0,
              "#0d0887"
             ],
             [
              0.1111111111111111,
              "#46039f"
             ],
             [
              0.2222222222222222,
              "#7201a8"
             ],
             [
              0.3333333333333333,
              "#9c179e"
             ],
             [
              0.4444444444444444,
              "#bd3786"
             ],
             [
              0.5555555555555556,
              "#d8576b"
             ],
             [
              0.6666666666666666,
              "#ed7953"
             ],
             [
              0.7777777777777778,
              "#fb9f3a"
             ],
             [
              0.8888888888888888,
              "#fdca26"
             ],
             [
              1,
              "#f0f921"
             ]
            ],
            "type": "surface"
           }
          ],
          "table": [
           {
            "cells": {
             "fill": {
              "color": "#EBF0F8"
             },
             "line": {
              "color": "white"
             }
            },
            "header": {
             "fill": {
              "color": "#C8D4E3"
             },
             "line": {
              "color": "white"
             }
            },
            "type": "table"
           }
          ]
         },
         "layout": {
          "annotationdefaults": {
           "arrowcolor": "#2a3f5f",
           "arrowhead": 0,
           "arrowwidth": 1
          },
          "coloraxis": {
           "colorbar": {
            "outlinewidth": 0,
            "ticks": ""
           }
          },
          "colorscale": {
           "diverging": [
            [
             0,
             "#8e0152"
            ],
            [
             0.1,
             "#c51b7d"
            ],
            [
             0.2,
             "#de77ae"
            ],
            [
             0.3,
             "#f1b6da"
            ],
            [
             0.4,
             "#fde0ef"
            ],
            [
             0.5,
             "#f7f7f7"
            ],
            [
             0.6,
             "#e6f5d0"
            ],
            [
             0.7,
             "#b8e186"
            ],
            [
             0.8,
             "#7fbc41"
            ],
            [
             0.9,
             "#4d9221"
            ],
            [
             1,
             "#276419"
            ]
           ],
           "sequential": [
            [
             0,
             "#0d0887"
            ],
            [
             0.1111111111111111,
             "#46039f"
            ],
            [
             0.2222222222222222,
             "#7201a8"
            ],
            [
             0.3333333333333333,
             "#9c179e"
            ],
            [
             0.4444444444444444,
             "#bd3786"
            ],
            [
             0.5555555555555556,
             "#d8576b"
            ],
            [
             0.6666666666666666,
             "#ed7953"
            ],
            [
             0.7777777777777778,
             "#fb9f3a"
            ],
            [
             0.8888888888888888,
             "#fdca26"
            ],
            [
             1,
             "#f0f921"
            ]
           ],
           "sequentialminus": [
            [
             0,
             "#0d0887"
            ],
            [
             0.1111111111111111,
             "#46039f"
            ],
            [
             0.2222222222222222,
             "#7201a8"
            ],
            [
             0.3333333333333333,
             "#9c179e"
            ],
            [
             0.4444444444444444,
             "#bd3786"
            ],
            [
             0.5555555555555556,
             "#d8576b"
            ],
            [
             0.6666666666666666,
             "#ed7953"
            ],
            [
             0.7777777777777778,
             "#fb9f3a"
            ],
            [
             0.8888888888888888,
             "#fdca26"
            ],
            [
             1,
             "#f0f921"
            ]
           ]
          },
          "colorway": [
           "#636efa",
           "#EF553B",
           "#00cc96",
           "#ab63fa",
           "#FFA15A",
           "#19d3f3",
           "#FF6692",
           "#B6E880",
           "#FF97FF",
           "#FECB52"
          ],
          "font": {
           "color": "#2a3f5f"
          },
          "geo": {
           "bgcolor": "white",
           "lakecolor": "white",
           "landcolor": "#E5ECF6",
           "showlakes": true,
           "showland": true,
           "subunitcolor": "white"
          },
          "hoverlabel": {
           "align": "left"
          },
          "hovermode": "closest",
          "mapbox": {
           "style": "light"
          },
          "paper_bgcolor": "white",
          "plot_bgcolor": "#E5ECF6",
          "polar": {
           "angularaxis": {
            "gridcolor": "white",
            "linecolor": "white",
            "ticks": ""
           },
           "bgcolor": "#E5ECF6",
           "radialaxis": {
            "gridcolor": "white",
            "linecolor": "white",
            "ticks": ""
           }
          },
          "scene": {
           "xaxis": {
            "backgroundcolor": "#E5ECF6",
            "gridcolor": "white",
            "gridwidth": 2,
            "linecolor": "white",
            "showbackground": true,
            "ticks": "",
            "zerolinecolor": "white"
           },
           "yaxis": {
            "backgroundcolor": "#E5ECF6",
            "gridcolor": "white",
            "gridwidth": 2,
            "linecolor": "white",
            "showbackground": true,
            "ticks": "",
            "zerolinecolor": "white"
           },
           "zaxis": {
            "backgroundcolor": "#E5ECF6",
            "gridcolor": "white",
            "gridwidth": 2,
            "linecolor": "white",
            "showbackground": true,
            "ticks": "",
            "zerolinecolor": "white"
           }
          },
          "shapedefaults": {
           "line": {
            "color": "#2a3f5f"
           }
          },
          "ternary": {
           "aaxis": {
            "gridcolor": "white",
            "linecolor": "white",
            "ticks": ""
           },
           "baxis": {
            "gridcolor": "white",
            "linecolor": "white",
            "ticks": ""
           },
           "bgcolor": "#E5ECF6",
           "caxis": {
            "gridcolor": "white",
            "linecolor": "white",
            "ticks": ""
           }
          },
          "title": {
           "x": 0.05
          },
          "xaxis": {
           "automargin": true,
           "gridcolor": "white",
           "linecolor": "white",
           "ticks": "",
           "title": {
            "standoff": 15
           },
           "zerolinecolor": "white",
           "zerolinewidth": 2
          },
          "yaxis": {
           "automargin": true,
           "gridcolor": "white",
           "linecolor": "white",
           "ticks": "",
           "title": {
            "standoff": 15
           },
           "zerolinecolor": "white",
           "zerolinewidth": 2
          }
         }
        },
        "title": {
         "text": "Metric: RMSE"
        },
        "xaxis": {
         "type": "category"
        },
        "yaxis": {
         "autorange": true,
         "gridcolor": "rgb(255,255,255)",
         "gridwidth": 0.1,
         "showgrid": true,
         "title": {
          "font": {
           "size": 30
          }
         },
         "type": "log",
         "zeroline": true,
         "zerolinewidth": 2
        }
       }
      },
      "text/html": [
       "<div>\n",
       "        \n",
       "        \n",
       "            <div id=\"d3274fb8-5a06-476a-be66-811d244d6470\" class=\"plotly-graph-div\" style=\"height:525px; width:100%;\"></div>\n",
       "            <script type=\"text/javascript\">\n",
       "                require([\"plotly\"], function(Plotly) {\n",
       "                    window.PLOTLYENV=window.PLOTLYENV || {};\n",
       "                    \n",
       "                if (document.getElementById(\"d3274fb8-5a06-476a-be66-811d244d6470\")) {\n",
       "                    Plotly.newPlot(\n",
       "                        'd3274fb8-5a06-476a-be66-811d244d6470',\n",
       "                        [{\"boxpoints\": \"all\", \"fillcolor\": \"rgba(115,115,115,0.5)\", \"jitter\": 0.7, \"line\": {\"color\": \"rgba(0,0,255,0.5)\", \"width\": 2}, \"marker\": {\"size\": 2}, \"name\": \"CHROM\", \"type\": \"box\", \"y\": [3.6589638613683975, 34.61971124920112, 13.680237435273767, 6.971295465532019, 18.179160317072128]}, {\"boxpoints\": \"all\", \"fillcolor\": \"rgba(200,200,200,0.5)\", \"jitter\": 0.7, \"line\": {\"color\": \"rgba(0,0,255,0.5)\", \"width\": 2}, \"marker\": {\"size\": 2}, \"name\": \"GREEN\", \"type\": \"box\", \"y\": [3.649646393070433, 36.17861168595144, 51.920845698180884, 46.513580617823436, 32.893839078139415]}, {\"boxpoints\": \"all\", \"fillcolor\": \"rgba(125,125,125,0.5)\", \"jitter\": 0.7, \"line\": {\"color\": \"rgba(0,0,255,0.5)\", \"width\": 2}, \"marker\": {\"size\": 2}, \"name\": \"LGI\", \"type\": \"box\", \"y\": [3.8423418607182525, 21.760379456879985, 15.139215585131398, 9.260103518229023, 20.90390468738732]}, {\"boxpoints\": \"all\", \"fillcolor\": \"rgba(150,150,150,0.5)\", \"jitter\": 0.7, \"line\": {\"color\": \"rgba(0,0,255,0.5)\", \"width\": 2}, \"marker\": {\"size\": 2}, \"name\": \"MAP_3DCNN\", \"type\": \"box\", \"y\": [20.436635897465017, 31.09354375761837, 12.272775598017363, 5.91705218319703, 24.76510813528613]}, {\"boxpoints\": \"all\", \"fillcolor\": \"rgba(200,200,200,0.5)\", \"jitter\": 0.7, \"line\": {\"color\": \"rgba(0,0,255,0.5)\", \"width\": 2}, \"marker\": {\"size\": 2}, \"name\": \"PBV\", \"type\": \"box\", \"y\": [3.792392860224199, 37.897759329124334, 42.20741274322028, 52.94223821200445, 20.13929953362655]}],\n",
       "                        {\"font\": {\"color\": \"rgb(20,20,20)\", \"family\": \"monospace\", \"size\": 16}, \"margin\": {\"b\": 20, \"l\": 20, \"r\": 10, \"t\": 40}, \"paper_bgcolor\": \"rgb(250, 250, 250)\", \"plot_bgcolor\": \"rgb(243, 243, 243)\", \"showlegend\": false, \"template\": {\"data\": {\"bar\": [{\"error_x\": {\"color\": \"#2a3f5f\"}, \"error_y\": {\"color\": \"#2a3f5f\"}, \"marker\": {\"line\": {\"color\": \"#E5ECF6\", \"width\": 0.5}}, \"type\": \"bar\"}], \"barpolar\": [{\"marker\": {\"line\": {\"color\": \"#E5ECF6\", \"width\": 0.5}}, \"type\": \"barpolar\"}], \"carpet\": [{\"aaxis\": {\"endlinecolor\": \"#2a3f5f\", \"gridcolor\": \"white\", \"linecolor\": \"white\", \"minorgridcolor\": \"white\", \"startlinecolor\": \"#2a3f5f\"}, \"baxis\": {\"endlinecolor\": \"#2a3f5f\", \"gridcolor\": \"white\", \"linecolor\": \"white\", \"minorgridcolor\": \"white\", \"startlinecolor\": \"#2a3f5f\"}, \"type\": \"carpet\"}], \"choropleth\": [{\"colorbar\": {\"outlinewidth\": 0, \"ticks\": \"\"}, \"type\": \"choropleth\"}], \"contour\": [{\"colorbar\": {\"outlinewidth\": 0, \"ticks\": \"\"}, \"colorscale\": [[0.0, \"#0d0887\"], [0.1111111111111111, \"#46039f\"], [0.2222222222222222, \"#7201a8\"], [0.3333333333333333, \"#9c179e\"], [0.4444444444444444, \"#bd3786\"], [0.5555555555555556, \"#d8576b\"], [0.6666666666666666, \"#ed7953\"], [0.7777777777777778, \"#fb9f3a\"], [0.8888888888888888, \"#fdca26\"], [1.0, \"#f0f921\"]], \"type\": \"contour\"}], \"contourcarpet\": [{\"colorbar\": {\"outlinewidth\": 0, \"ticks\": \"\"}, \"type\": \"contourcarpet\"}], \"heatmap\": [{\"colorbar\": {\"outlinewidth\": 0, \"ticks\": \"\"}, \"colorscale\": [[0.0, \"#0d0887\"], [0.1111111111111111, \"#46039f\"], [0.2222222222222222, \"#7201a8\"], [0.3333333333333333, \"#9c179e\"], [0.4444444444444444, \"#bd3786\"], [0.5555555555555556, \"#d8576b\"], [0.6666666666666666, \"#ed7953\"], [0.7777777777777778, \"#fb9f3a\"], [0.8888888888888888, \"#fdca26\"], [1.0, \"#f0f921\"]], \"type\": \"heatmap\"}], \"heatmapgl\": [{\"colorbar\": {\"outlinewidth\": 0, \"ticks\": \"\"}, \"colorscale\": [[0.0, \"#0d0887\"], [0.1111111111111111, \"#46039f\"], [0.2222222222222222, \"#7201a8\"], [0.3333333333333333, \"#9c179e\"], [0.4444444444444444, \"#bd3786\"], [0.5555555555555556, \"#d8576b\"], [0.6666666666666666, \"#ed7953\"], [0.7777777777777778, \"#fb9f3a\"], [0.8888888888888888, \"#fdca26\"], [1.0, \"#f0f921\"]], \"type\": \"heatmapgl\"}], \"histogram\": [{\"marker\": {\"colorbar\": {\"outlinewidth\": 0, \"ticks\": \"\"}}, \"type\": \"histogram\"}], \"histogram2d\": [{\"colorbar\": {\"outlinewidth\": 0, \"ticks\": \"\"}, \"colorscale\": [[0.0, \"#0d0887\"], [0.1111111111111111, \"#46039f\"], [0.2222222222222222, \"#7201a8\"], [0.3333333333333333, \"#9c179e\"], [0.4444444444444444, \"#bd3786\"], [0.5555555555555556, \"#d8576b\"], [0.6666666666666666, \"#ed7953\"], [0.7777777777777778, \"#fb9f3a\"], [0.8888888888888888, \"#fdca26\"], [1.0, \"#f0f921\"]], \"type\": \"histogram2d\"}], \"histogram2dcontour\": [{\"colorbar\": {\"outlinewidth\": 0, \"ticks\": \"\"}, \"colorscale\": [[0.0, \"#0d0887\"], [0.1111111111111111, \"#46039f\"], [0.2222222222222222, \"#7201a8\"], [0.3333333333333333, \"#9c179e\"], [0.4444444444444444, \"#bd3786\"], [0.5555555555555556, \"#d8576b\"], [0.6666666666666666, \"#ed7953\"], [0.7777777777777778, \"#fb9f3a\"], [0.8888888888888888, \"#fdca26\"], [1.0, \"#f0f921\"]], \"type\": \"histogram2dcontour\"}], \"mesh3d\": [{\"colorbar\": {\"outlinewidth\": 0, \"ticks\": \"\"}, \"type\": \"mesh3d\"}], \"parcoords\": [{\"line\": {\"colorbar\": {\"outlinewidth\": 0, \"ticks\": \"\"}}, \"type\": \"parcoords\"}], \"pie\": [{\"automargin\": true, \"type\": \"pie\"}], \"scatter\": [{\"marker\": {\"colorbar\": {\"outlinewidth\": 0, \"ticks\": \"\"}}, \"type\": \"scatter\"}], \"scatter3d\": [{\"line\": {\"colorbar\": {\"outlinewidth\": 0, \"ticks\": \"\"}}, \"marker\": {\"colorbar\": {\"outlinewidth\": 0, \"ticks\": \"\"}}, \"type\": \"scatter3d\"}], \"scattercarpet\": [{\"marker\": {\"colorbar\": {\"outlinewidth\": 0, \"ticks\": \"\"}}, \"type\": \"scattercarpet\"}], \"scattergeo\": [{\"marker\": {\"colorbar\": {\"outlinewidth\": 0, \"ticks\": \"\"}}, \"type\": \"scattergeo\"}], \"scattergl\": [{\"marker\": {\"colorbar\": {\"outlinewidth\": 0, \"ticks\": \"\"}}, \"type\": \"scattergl\"}], \"scattermapbox\": [{\"marker\": {\"colorbar\": {\"outlinewidth\": 0, \"ticks\": \"\"}}, \"type\": \"scattermapbox\"}], \"scatterpolar\": [{\"marker\": {\"colorbar\": {\"outlinewidth\": 0, \"ticks\": \"\"}}, \"type\": \"scatterpolar\"}], \"scatterpolargl\": [{\"marker\": {\"colorbar\": {\"outlinewidth\": 0, \"ticks\": \"\"}}, \"type\": \"scatterpolargl\"}], \"scatterternary\": [{\"marker\": {\"colorbar\": {\"outlinewidth\": 0, \"ticks\": \"\"}}, \"type\": \"scatterternary\"}], \"surface\": [{\"colorbar\": {\"outlinewidth\": 0, \"ticks\": \"\"}, \"colorscale\": [[0.0, \"#0d0887\"], [0.1111111111111111, \"#46039f\"], [0.2222222222222222, \"#7201a8\"], [0.3333333333333333, \"#9c179e\"], [0.4444444444444444, \"#bd3786\"], [0.5555555555555556, \"#d8576b\"], [0.6666666666666666, \"#ed7953\"], [0.7777777777777778, \"#fb9f3a\"], [0.8888888888888888, \"#fdca26\"], [1.0, \"#f0f921\"]], \"type\": \"surface\"}], \"table\": [{\"cells\": {\"fill\": {\"color\": \"#EBF0F8\"}, \"line\": {\"color\": \"white\"}}, \"header\": {\"fill\": {\"color\": \"#C8D4E3\"}, \"line\": {\"color\": \"white\"}}, \"type\": \"table\"}]}, \"layout\": {\"annotationdefaults\": {\"arrowcolor\": \"#2a3f5f\", \"arrowhead\": 0, \"arrowwidth\": 1}, \"coloraxis\": {\"colorbar\": {\"outlinewidth\": 0, \"ticks\": \"\"}}, \"colorscale\": {\"diverging\": [[0, \"#8e0152\"], [0.1, \"#c51b7d\"], [0.2, \"#de77ae\"], [0.3, \"#f1b6da\"], [0.4, \"#fde0ef\"], [0.5, \"#f7f7f7\"], [0.6, \"#e6f5d0\"], [0.7, \"#b8e186\"], [0.8, \"#7fbc41\"], [0.9, \"#4d9221\"], [1, \"#276419\"]], \"sequential\": [[0.0, \"#0d0887\"], [0.1111111111111111, \"#46039f\"], [0.2222222222222222, \"#7201a8\"], [0.3333333333333333, \"#9c179e\"], [0.4444444444444444, \"#bd3786\"], [0.5555555555555556, \"#d8576b\"], [0.6666666666666666, \"#ed7953\"], [0.7777777777777778, \"#fb9f3a\"], [0.8888888888888888, \"#fdca26\"], [1.0, \"#f0f921\"]], \"sequentialminus\": [[0.0, \"#0d0887\"], [0.1111111111111111, \"#46039f\"], [0.2222222222222222, \"#7201a8\"], [0.3333333333333333, \"#9c179e\"], [0.4444444444444444, \"#bd3786\"], [0.5555555555555556, \"#d8576b\"], [0.6666666666666666, \"#ed7953\"], [0.7777777777777778, \"#fb9f3a\"], [0.8888888888888888, \"#fdca26\"], [1.0, \"#f0f921\"]]}, \"colorway\": [\"#636efa\", \"#EF553B\", \"#00cc96\", \"#ab63fa\", \"#FFA15A\", \"#19d3f3\", \"#FF6692\", \"#B6E880\", \"#FF97FF\", \"#FECB52\"], \"font\": {\"color\": \"#2a3f5f\"}, \"geo\": {\"bgcolor\": \"white\", \"lakecolor\": \"white\", \"landcolor\": \"#E5ECF6\", \"showlakes\": true, \"showland\": true, \"subunitcolor\": \"white\"}, \"hoverlabel\": {\"align\": \"left\"}, \"hovermode\": \"closest\", \"mapbox\": {\"style\": \"light\"}, \"paper_bgcolor\": \"white\", \"plot_bgcolor\": \"#E5ECF6\", \"polar\": {\"angularaxis\": {\"gridcolor\": \"white\", \"linecolor\": \"white\", \"ticks\": \"\"}, \"bgcolor\": \"#E5ECF6\", \"radialaxis\": {\"gridcolor\": \"white\", \"linecolor\": \"white\", \"ticks\": \"\"}}, \"scene\": {\"xaxis\": {\"backgroundcolor\": \"#E5ECF6\", \"gridcolor\": \"white\", \"gridwidth\": 2, \"linecolor\": \"white\", \"showbackground\": true, \"ticks\": \"\", \"zerolinecolor\": \"white\"}, \"yaxis\": {\"backgroundcolor\": \"#E5ECF6\", \"gridcolor\": \"white\", \"gridwidth\": 2, \"linecolor\": \"white\", \"showbackground\": true, \"ticks\": \"\", \"zerolinecolor\": \"white\"}, \"zaxis\": {\"backgroundcolor\": \"#E5ECF6\", \"gridcolor\": \"white\", \"gridwidth\": 2, \"linecolor\": \"white\", \"showbackground\": true, \"ticks\": \"\", \"zerolinecolor\": \"white\"}}, \"shapedefaults\": {\"line\": {\"color\": \"#2a3f5f\"}}, \"ternary\": {\"aaxis\": {\"gridcolor\": \"white\", \"linecolor\": \"white\", \"ticks\": \"\"}, \"baxis\": {\"gridcolor\": \"white\", \"linecolor\": \"white\", \"ticks\": \"\"}, \"bgcolor\": \"#E5ECF6\", \"caxis\": {\"gridcolor\": \"white\", \"linecolor\": \"white\", \"ticks\": \"\"}}, \"title\": {\"x\": 0.05}, \"xaxis\": {\"automargin\": true, \"gridcolor\": \"white\", \"linecolor\": \"white\", \"ticks\": \"\", \"title\": {\"standoff\": 15}, \"zerolinecolor\": \"white\", \"zerolinewidth\": 2}, \"yaxis\": {\"automargin\": true, \"gridcolor\": \"white\", \"linecolor\": \"white\", \"ticks\": \"\", \"title\": {\"standoff\": 15}, \"zerolinecolor\": \"white\", \"zerolinewidth\": 2}}}, \"title\": {\"text\": \"Metric: RMSE\"}, \"xaxis\": {\"type\": \"category\"}, \"yaxis\": {\"autorange\": true, \"gridcolor\": \"rgb(255,255,255)\", \"gridwidth\": 0.1, \"showgrid\": true, \"title\": {\"font\": {\"size\": 30}}, \"type\": \"log\", \"zeroline\": true, \"zerolinewidth\": 2}},\n",
       "                        {\"responsive\": true}\n",
       "                    ).then(function(){\n",
       "                            \n",
       "var gd = document.getElementById('d3274fb8-5a06-476a-be66-811d244d6470');\n",
       "var x = new MutationObserver(function (mutations, observer) {{\n",
       "        var display = window.getComputedStyle(gd).display;\n",
       "        if (!display || display === 'none') {{\n",
       "            console.log([gd, 'removed!']);\n",
       "            Plotly.purge(gd);\n",
       "            observer.disconnect();\n",
       "        }}\n",
       "}});\n",
       "\n",
       "// Listen for the removal of the full notebook cells\n",
       "var notebookContainer = gd.closest('#notebook-container');\n",
       "if (notebookContainer) {{\n",
       "    x.observe(notebookContainer, {childList: true});\n",
       "}}\n",
       "\n",
       "// Listen for the clearing of the current output cell\n",
       "var outputEl = gd.closest('.output');\n",
       "if (outputEl) {{\n",
       "    x.observe(outputEl, {childList: true});\n",
       "}}\n",
       "\n",
       "                        })\n",
       "                };\n",
       "                });\n",
       "            </script>\n",
       "        </div>"
      ]
     },
     "metadata": {},
     "output_type": "display_data"
    }
   ],
   "source": [
    "filename = \"./testResults.h5\"\n",
    "# -- object for statistical testing \n",
    "st = StatAnalysis(filename)\n",
    "\n",
    "# -- box plot statistics (medians)\n",
    "st.displayBoxPlot(metric='MAE',scale='log')\n",
    "st.displayBoxPlot(metric='PCC')\n",
    "st.displayBoxPlot(metric='RMSE')"
   ]
  },
  {
   "cell_type": "markdown",
   "metadata": {},
   "source": [
    "# Friedman and post-hoc tests"
   ]
  },
  {
   "cell_type": "code",
   "execution_count": 12,
   "metadata": {},
   "outputs": [
    {
     "data": {
      "image/png": "[encoded data removed]",
      "text/plain": [
       "<Figure size 432x118.8 with 1 Axes>"
      ]
     },
     "metadata": {},
     "output_type": "display_data"
    },
    {
     "name": "stdout",
     "output_type": "stream",
     "text": [
      "num datasets: 5\n",
      "stats: 10.062762 -- p-value: 0.039384 -- CD: 2.727774\n"
     ]
    },
    {
     "data": {
      "image/png": "[encoded data removed]",
      "text/plain": [
       "<Figure size 432x126 with 1 Axes>"
      ]
     },
     "metadata": {},
     "output_type": "display_data"
    },
    {
     "name": "stdout",
     "output_type": "stream",
     "text": [
      "stats: 12.414023 -- p-value: 0.014524 -- CD: 2.727774\n"
     ]
    },
    {
     "data": {
      "image/png": "[encoded data removed]",
      "text/plain": [
       "<Figure size 360x288 with 2 Axes>"
      ]
     },
     "metadata": {
      "needs_background": "light"
     },
     "output_type": "display_data"
    },
    {
     "data": {
      "image/png": "[encoded data removed]",
      "text/plain": [
       "<Figure size 360x288 with 2 Axes>"
      ]
     },
     "metadata": {
      "needs_background": "light"
     },
     "output_type": "display_data"
    }
   ],
   "source": [
    "filename = \"./testResults.h5\"\n",
    "\n",
    "# -- object for statistical testing \n",
    "st = StatAnalysis(filename)\n",
    "\n",
    "# -- Friedman & Nemenyi tests for MAE\n",
    "t,p,ranks,piv,ndataset = st.FriedmanTest(metric='MAE')\n",
    "\n",
    "# -- critical differences diagram\n",
    "cd = st.computeCD()\n",
    "print('num datasets: %d' %ndataset)\n",
    "print('stats: %f -- p-value: %f -- CD: %f' %(t,p,cd))\n",
    "\n",
    "# -- Friedman & Nemenyi tests for PCC\n",
    "t,p,ranks,piv,ndataset = st.FriedmanTest(metric='PCC')\n",
    "\n",
    "# -- critical differences diagram\n",
    "cd = st.computeCD()\n",
    "print('stats: %f -- p-value: %f -- CD: %f' %(t,p,cd))\n",
    "\n",
    "# -- significance plot\n",
    "st.SignificancePlot(metric='MAE')\n",
    "st.SignificancePlot(metric='PCC')"
   ]
  },
  {
   "cell_type": "code",
   "execution_count": null,
   "metadata": {},
   "outputs": [],
   "source": []
  }
 ],
 "metadata": {
  "kernelspec": {
   "display_name": "Python 3",
   "language": "python",
   "name": "python3"
  },
  "language_info": {
   "codemirror_mode": {
    "name": "ipython",
    "version": 3
   },
   "file_extension": ".py",
   "mimetype": "text/x-python",
   "name": "python",
   "nbconvert_exporter": "python",
   "pygments_lexer": "ipython3",
   "version": "3.8.1"
  }
 },
 "nbformat": 4,
 "nbformat_minor": 4
}
